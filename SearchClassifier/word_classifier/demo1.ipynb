{
 "cells": [
  {
   "cell_type": "markdown",
   "source": [
    "## Imports"
   ],
   "metadata": {
    "collapsed": false
   }
  },
  {
   "cell_type": "code",
   "execution_count": 1,
   "outputs": [],
   "source": [
    "from __future__ import unicode_literals, print_function, division\n",
    "from io import open\n",
    "import glob\n",
    "import os\n",
    "import random\n",
    "import unicodedata\n",
    "import string\n",
    "import torch\n",
    "import time\n",
    "import math\n",
    "import matplotlib.pyplot as plt\n",
    "import matplotlib.ticker as ticker\n",
    "from torch import nn, optim"
   ],
   "metadata": {
    "collapsed": false,
    "pycharm": {
     "name": "#%%\n"
    }
   }
  },
  {
   "cell_type": "markdown",
   "source": [
    "## Global variables\n",
    "Change for running configuration"
   ],
   "metadata": {
    "collapsed": false
   }
  },
  {
   "cell_type": "code",
   "execution_count": 2,
   "outputs": [],
   "source": [
    "TRAINING_PERCENT = 70\n",
    "TEST_PERCENT = 20\n",
    "VIEW_PERCENT = 10\n",
    "LEARNING_RATE = 0.005  # If you set this too high, it might explode. If too low, it might not learn\n",
    "EPOCHS = 5000\n",
    "PRINT_EVERY = 100\n",
    "PLOT_EVERY = 100\n",
    "N_HIDDEN = 128\n",
    "EXEC_MODE = 2\n",
    "PATH = \"models/model.pt\"\n",
    "PATH2 = \"models/model2.pt\"\n",
    "all_letters = string.ascii_letters + \" .,;'\"\n",
    "n_letters = len(all_letters)"
   ],
   "metadata": {
    "collapsed": false,
    "pycharm": {
     "name": "#%%\n"
    }
   }
  },
  {
   "cell_type": "markdown",
   "source": [
    "## Models\n",
    "### Single hidden layer model"
   ],
   "metadata": {
    "collapsed": false,
    "pycharm": {
     "name": "#%% md\n"
    }
   }
  },
  {
   "cell_type": "code",
   "execution_count": 3,
   "outputs": [],
   "source": [
    "class RNN(nn.Module):\n",
    "    def __init__(self, input_size, hidden_size, output_size):\n",
    "        super(RNN, self).__init__()\n",
    "\n",
    "        self.hidden_size = hidden_size\n",
    "\n",
    "        self.i2h = nn.Linear(input_size + hidden_size, hidden_size)\n",
    "        self.i2o = nn.Linear(input_size + hidden_size, output_size)\n",
    "        self.softmax = nn.LogSoftmax(dim=1)\n",
    "\n",
    "    def forward(self, input, hidden):\n",
    "        combined = torch.cat((input, hidden), 1)\n",
    "        hidden = self.i2h(combined)\n",
    "        output = self.i2o(combined)\n",
    "        output = self.softmax(output)\n",
    "        return output, hidden\n",
    "\n",
    "    def init_hidden(self):\n",
    "        return torch.zeros(1, self.hidden_size)"
   ],
   "metadata": {
    "collapsed": false,
    "pycharm": {
     "name": "#%%\n"
    }
   }
  },
  {
   "cell_type": "markdown",
   "source": [
    "### Dual hidden layer model"
   ],
   "metadata": {
    "collapsed": false,
    "pycharm": {
     "name": "#%% md\n"
    }
   }
  },
  {
   "cell_type": "code",
   "execution_count": 4,
   "outputs": [],
   "source": [
    "class MultilayerRnn(nn.Module):\n",
    "    def __init__(self, input_size, hidden_size, output_size):\n",
    "        super(MultilayerRnn, self).__init__()\n",
    "\n",
    "        self.hidden_size = hidden_size\n",
    "\n",
    "        self.i2h = nn.Linear(input_size + hidden_size, hidden_size)\n",
    "        self.h2h = nn.Linear(hidden_size, hidden_size)\n",
    "        self.i2o = nn.Linear(input_size + hidden_size, output_size)\n",
    "        self.softmax = nn.LogSoftmax(dim=1)\n",
    "\n",
    "    def forward(self, input, hidden):\n",
    "        combined = torch.cat((input, hidden), 1)\n",
    "        hidden = self.i2h(combined)\n",
    "        hidden = self.h2h(hidden)\n",
    "        output = self.i2o(combined)\n",
    "        output = self.softmax(output)\n",
    "        return output, hidden\n",
    "\n",
    "    def init_hidden(self):\n",
    "        return torch.zeros(1, self.hidden_size)"
   ],
   "metadata": {
    "collapsed": false,
    "pycharm": {
     "name": "#%%\n"
    }
   }
  },
  {
   "cell_type": "markdown",
   "source": [
    "### Configuration\n",
    "Data loading and environment configuration"
   ],
   "metadata": {
    "collapsed": false
   }
  },
  {
   "cell_type": "code",
   "execution_count": 5,
   "outputs": [
    {
     "name": "stdout",
     "output_type": "stream",
     "text": [
      "['data/products/toys.txt', 'data/products/music.txt', 'data/products/book.txt', 'data/products/smartphone.txt', 'data/products/clothes.txt', 'data/products/food.txt', 'data/products/games.txt', 'data/products/fitness.txt']\n"
     ]
    }
   ],
   "source": [
    "def find_files(path): return glob.glob(path)\n",
    "\n",
    "\n",
    "print(find_files('data/products/*.txt'))\n",
    "\n",
    "# Build the category_lines dictionary, a list of names per language\n",
    "category_lines = {}\n",
    "all_categories = []\n",
    "\n",
    "\n",
    "# Turn a Unicode string to plain ASCII, thanks to https://stackoverflow.com/a/518232/2809427\n",
    "def unicode_to_ascii(s):\n",
    "    return ''.join(\n",
    "        c for c in unicodedata.normalize('NFD', s)\n",
    "        if unicodedata.category(c) != 'Mn'\n",
    "        and c in all_letters\n",
    "    )\n",
    "\n",
    "\n",
    "# Read a file and split into lines\n",
    "def read_lines(filename):\n",
    "    lines = open(filename, encoding='utf-8').read().strip().split('\\n')\n",
    "    return [unicode_to_ascii(line) for line in lines]\n",
    "\n",
    "\n",
    "for filename in find_files('data/products/*.txt'):\n",
    "    category = os.path.splitext(os.path.basename(filename))[0]\n",
    "    all_categories.append(category)\n",
    "    lines = read_lines(filename)\n",
    "    category_lines[category] = lines\n",
    "\n",
    "n_categories = len(all_categories)"
   ],
   "metadata": {
    "collapsed": false,
    "pycharm": {
     "name": "#%%\n"
    }
   }
  },
  {
   "cell_type": "markdown",
   "source": [
    "## Preparing data"
   ],
   "metadata": {
    "collapsed": false,
    "pycharm": {
     "name": "#%% md\n"
    }
   }
  },
  {
   "cell_type": "code",
   "execution_count": 6,
   "outputs": [],
   "source": [
    "def split_list(l, training, test, view):\n",
    "    training_list = []\n",
    "    test_list = []\n",
    "    view_list = []\n",
    "    for i in range(0, training):\n",
    "        index = random.randint(0, len(l) - 1)\n",
    "        training_list.append(l[index])\n",
    "        del l[index]\n",
    "\n",
    "    for i in range(0, test):\n",
    "        index = random.randint(0, len(l) - 1)\n",
    "        test_list.append(l[index])\n",
    "        del l[index]\n",
    "\n",
    "    for i in range(0, min(view, len(l) - 1)):  # If there are decimals this max allow us to get the items left\n",
    "        index = random.randint(0, len(l) - 1)\n",
    "        view_list.append(l[index])\n",
    "        del l[index]\n",
    "\n",
    "    return training_list, test_list, view_list\n",
    "\n",
    "\n",
    "def split_dataset(category_lines, training, test, view):\n",
    "    training_dict = {}\n",
    "    test_dict = {}\n",
    "    view_dict = {}\n",
    "    for category in category_lines.keys():\n",
    "        size = len(category_lines[category])\n",
    "        training_list, test_list, view_list = split_list(category_lines[category],\n",
    "                                                         int(size * training / 100), int(size * test / 100), int(size * view / 100))\n",
    "        training_dict[category] = training_list\n",
    "        test_dict[category] = test_list\n",
    "        view_dict[category] = view_list\n",
    "\n",
    "    return training_dict, test_dict, view_dict\n",
    "\n",
    "training_dataset, test_dataset, view_dataset = split_dataset(category_lines, TRAINING_PERCENT, TEST_PERCENT, VIEW_PERCENT)"
   ],
   "metadata": {
    "collapsed": false,
    "pycharm": {
     "name": "#%%\n"
    }
   }
  },
  {
   "cell_type": "markdown",
   "source": [
    "## Utils"
   ],
   "metadata": {
    "collapsed": false,
    "pycharm": {
     "name": "#%% md\n"
    }
   }
  },
  {
   "cell_type": "code",
   "execution_count": 7,
   "outputs": [
    {
     "data": {
      "text/plain": "torch.Size([10, 1, 57])"
     },
     "execution_count": 7,
     "metadata": {},
     "output_type": "execute_result"
    }
   ],
   "source": [
    "# Find letter index from all_letters, e.g. \"a\" = 0\n",
    "def letter_to_index(letter):\n",
    "    return all_letters.find(letter)\n",
    "\n",
    "\n",
    "# Just for demonstration, turn a letter into a <1 x n_letters> Tensor\n",
    "def letter_to_tensor(letter):\n",
    "    tensor = torch.zeros(1, n_letters)\n",
    "    tensor[0][letter_to_index(letter)] = 1\n",
    "    return tensor\n",
    "\n",
    "\n",
    "# Turn a line into a <line_length x 1 x n_letters>,\n",
    "# or an array of one-hot letter vectors\n",
    "def line_to_tensor(word):\n",
    "    tensor = torch.zeros(len(word), 1, n_letters)\n",
    "    for li, letter in enumerate(word):\n",
    "        tensor[li][0][letter_to_index(letter)] = 1\n",
    "    return tensor\n",
    "\n",
    "def category_from_output(all_categories, output):\n",
    "    top_n, top_i = output.topk(1)\n",
    "    category_i = top_i[0].item()\n",
    "    return all_categories[category_i], category_i\n",
    "\n",
    "\n",
    "def save_checkpoint(model, filepath):\n",
    "    checkpoint = { 'state_dict': model.state_dict()}\n",
    "    torch.save(checkpoint, filepath)\n",
    "\n",
    "\n",
    "def load_checkpoint(model, filepath):\n",
    "    checkpoint = torch.load(filepath)\n",
    "    model.load_state_dict(checkpoint['state_dict'])\n",
    "    for parameter in model.parameters():\n",
    "        parameter.requires_grad = False\n",
    "\n",
    "    model.eval()\n",
    "    return model\n",
    "\n",
    "\n",
    "line_to_tensor('Jose Ramón').size()"
   ],
   "metadata": {
    "collapsed": false,
    "pycharm": {
     "name": "#%%\n"
    }
   }
  },
  {
   "cell_type": "markdown",
   "source": [
    "## Creating RNN"
   ],
   "metadata": {
    "collapsed": false
   }
  },
  {
   "cell_type": "code",
   "execution_count": 8,
   "outputs": [
    {
     "data": {
      "text/plain": "RNN(\n  (i2h): Linear(in_features=185, out_features=128, bias=True)\n  (i2o): Linear(in_features=185, out_features=8, bias=True)\n  (softmax): LogSoftmax()\n)"
     },
     "execution_count": 8,
     "metadata": {},
     "output_type": "execute_result"
    }
   ],
   "source": [
    "if EXEC_MODE == 1:\n",
    "    rnn = RNN(n_letters, N_HIDDEN, n_categories)\n",
    "elif EXEC_MODE == 2:\n",
    "    rnn = RNN(n_letters, N_HIDDEN, n_categories)\n",
    "    rnn2 = MultilayerRnn(n_letters, N_HIDDEN, n_categories)\n",
    "else:\n",
    "    print(\"Loading network\")\n",
    "    rnn = RNN(n_letters, N_HIDDEN, n_categories)\n",
    "    rnn = load_checkpoint(rnn, PATH)\n",
    "    #rnn.eval()\n",
    "inputChar = letter_to_tensor('A')\n",
    "\n",
    "hidden = torch.zeros(1, N_HIDDEN)\n",
    "\n",
    "rnn"
   ],
   "metadata": {
    "collapsed": false,
    "pycharm": {
     "name": "#%%\n"
    }
   }
  },
  {
   "cell_type": "markdown",
   "source": [
    "### Getting output"
   ],
   "metadata": {
    "collapsed": false
   }
  },
  {
   "cell_type": "code",
   "execution_count": 9,
   "outputs": [
    {
     "data": {
      "text/plain": "('games', 6)"
     },
     "execution_count": 9,
     "metadata": {},
     "output_type": "execute_result"
    }
   ],
   "source": [
    "output, next_hidden = rnn(inputChar, hidden)\n",
    "category_from_output(all_categories, output)"
   ],
   "metadata": {
    "collapsed": false,
    "pycharm": {
     "name": "#%%\n"
    }
   }
  },
  {
   "cell_type": "markdown",
   "source": [
    "### Showing samples"
   ],
   "metadata": {
    "collapsed": false
   }
  },
  {
   "cell_type": "code",
   "execution_count": 10,
   "outputs": [
    {
     "name": "stdout",
     "output_type": "stream",
     "text": [
      "category = games / line = XPLANE   AEROSOFT AIRPORT COLLECTION\n",
      "category = games / line = The Sims   Vida Islena\n",
      "category = fitness / line = iron dumbbell kg\n",
      "category = toys / line = crayfomo Twister Game Juego de Suelo Juegos Twister Infantiles\n",
      "category = games / line = The Sims   Vida Islena\n",
      "category = music / line = The Katie Melua Collection\n",
      "category = smartphone / line = LG G ThinQ\n",
      "category = fitness / line = Nautilus Treadmill Series\n",
      "category = smartphone / line = Samsung Galaxy Grand Prime\n",
      "category = food / line = HUEVOS CHOCO MIX LOL U\n"
     ]
    }
   ],
   "source": [
    "def random_choice(l):\n",
    "    return l[random.randint(0, len(l) - 1)]\n",
    "\n",
    "\n",
    "def random_training_example(categories, dataset):\n",
    "    category = random_choice(categories)\n",
    "    line = random_choice(dataset[category])\n",
    "    category_tensor = torch.tensor([categories.index(category)], dtype=torch.long)\n",
    "    line_tensor = line_to_tensor(line)\n",
    "    return category, line, category_tensor, line_tensor\n",
    "\n",
    "\n",
    "for i in range(10):\n",
    "    category, line, category_tensor, line_tensor = random_training_example(all_categories, training_dataset)\n",
    "    print('category =', category, '/ line =', line)"
   ],
   "metadata": {
    "collapsed": false,
    "pycharm": {
     "name": "#%%\n"
    }
   }
  },
  {
   "cell_type": "markdown",
   "source": [
    "### Defining criterion\n",
    "NLLLoss() is good because the last layer of the RNN is nn.LogSoftmax I have to see the different criterion and activation functions"
   ],
   "metadata": {
    "collapsed": false
   }
  },
  {
   "cell_type": "code",
   "execution_count": 11,
   "outputs": [],
   "source": [
    "if EXEC_MODE == 1 or EXEC_MODE == 2:\n",
    "    criterion = nn.NLLLoss()"
   ],
   "metadata": {
    "collapsed": false,
    "pycharm": {
     "name": "#%%\n"
    }
   }
  },
  {
   "cell_type": "markdown",
   "source": [
    "## Training\n",
    "each loop of training\n",
    "  1) Create input and target tensors\n",
    "  2) Create zeroed initial hidden state\n",
    "  3) Read each letter in and keep hidden state for next letter\n",
    "  4) Compare final output to target\n",
    "  5) Back-propagate\n",
    "  6) Return to output and loss\n",
    "Keep track of losses for plotting"
   ],
   "metadata": {
    "collapsed": false
   }
  },
  {
   "cell_type": "code",
   "execution_count": 12,
   "outputs": [
    {
     "name": "stdout",
     "output_type": "stream",
     "text": [
      "Training first network\n",
      "100 2% (0m 0s) 2.1578 crayfomo Twister Game Juego de Suelo Juegos Twister Infantiles / fitness ✗ (toys)\n",
      "200 4% (0m 2s) 1.9732 The Predator / music ✓\n",
      "300 6% (0m 3s) 2.1208 Samsung Galaxy Grand Prime / fitness ✗ (smartphone)\n",
      "400 8% (0m 4s) 2.0373 Trap Lord / games ✗ (music)\n",
      "500 10% (0m 5s) 2.0113 Boombox , Early Independent Hip Hop, Electro And Disco Rap  lp Vinilo / toys ✗ (music)\n",
      "600 12% (0m 7s) 1.9111 Joma Drive Bermuda Deporte, Hombre / clothes ✓\n",
      "700 14% (0m 8s) 2.0807 LG G / fitness ✗ (smartphone)\n",
      "800 16% (0m 9s) 1.7392 Gourmet Maiz Dulce en Grano  Envasado al Vacio   g / food ✓\n",
      "900 18% (0m 10s) 2.1355 iron dumbbell kg / food ✗ (fitness)\n",
      "1000 20% (0m 11s) 2.0562 Hearts Of Iron IV / food ✗ (games)\n",
      "1100 22% (0m 12s) 2.0038 Panasonic P / food ✗ (smartphone)\n",
      "1200 24% (0m 13s) 2.0439 TWISTER  Manta de Picnic, diseno de Juego Twister / fitness ✗ (toys)\n",
      "1300 26% (0m 14s) 2.0067 Football Manager  / toys ✗ (games)\n",
      "1400 28% (0m 15s) 1.7061 LEVADURA SECA x G / food ✓\n",
      "1500 30% (0m 16s) 1.9533 LG Nexus  / toys ✗ (smartphone)\n",
      "1600 32% (0m 17s) 1.8886 Clementoni  Puzzle de  Piezas,, diseno   / food ✗ (toys)\n",
      "1700 34% (0m 18s) 2.0456 Football Manager  / toys ✗ (games)\n",
      "1800 36% (0m 19s) 1.8904 Xiaomi Redmi  / toys ✗ (smartphone)\n",
      "1900 38% (0m 20s) 1.5535 Tomate Troceado  ml / food ✓\n",
      "2000 40% (0m 21s) 1.8190 Parallels / fitness ✓\n",
      "2100 42% (0m 22s) 1.3457 adidas Core TR SHO Pantalones Cortos de Deporte, Hombre / clothes ✓\n",
      "2200 44% (0m 23s) 1.7184 The Great Gatsby / book ✓\n",
      "2300 46% (0m 24s) 1.6133 The Divine Comedy / book ✓\n",
      "2400 48% (0m 25s) 1.8569 Moby Dick / book ✓\n",
      "2500 50% (0m 26s) 1.8137 Huawei P / smartphone ✓\n",
      "2600 52% (0m 27s) 2.0427 iron dumbbell kg / food ✗ (fitness)\n",
      "2700 54% (0m 29s) 1.9162 Ulysses / fitness ✗ (book)\n",
      "2800 56% (0m 29s) 1.5964 The Slim Shady LP Expanded Edition Explicit / music ✓\n",
      "2900 57% (0m 30s) 1.8669 Devir  Catan, juego de mesa  Idioma castellano BGCATAN / music ✗ (toys)\n",
      "3000 60% (0m 31s) 2.2866 WDZSHLGG Puzzle para adultos Tranvia de Lisboa Juguete de descompresion de  piezas Regalo Bosque Animal Oceano Juego de descompresion DIY Juguete / book ✗ (toys)\n",
      "3100 62% (0m 32s) 3.7755 AGE OF MYTHOLOGY GOLD EDITION / music ✗ (games)\n",
      "3200 64% (0m 33s) 1.8243 Euro Truck Simulator  Espanol / games ✓\n",
      "3300 66% (0m 34s) 2.1056 Nokia  Sirocco / music ✗ (smartphone)\n",
      "3400 68% (0m 35s) 1.7869 Need for Speed Heat / games ✓\n",
      "3500 70% (0m 36s) 1.7804 I Am Easy To Find / music ✓\n",
      "3600 72% (0m 37s) 2.1424 Velocity Exercise Dual Motion Recumbent Bike, White / book ✗ (fitness)\n",
      "3700 74% (0m 38s) 0.0712 Gourmet Maiz Dulce en Grano  Envasado al Vacio   g / food ✓\n",
      "3800 76% (0m 39s) nan NIKE Y Nk Dry Park VII JSY SS Camiseta de Manga Corta, Unisex ninos / fitness ✗ (clothes)\n",
      "3900 78% (0m 40s) nan Grefusa  Snatt's  Snacks Mediterraneos  Palitos de Pan de Queso con Hierbas Aromaticas   gr / fitness ✗ (food)\n",
      "4000 80% (0m 41s) nan Hasbro Don't Step In It Estuche de Juego  Juegos y Juguetes de HabilidadActivos Estuche de Juego, Multicolor,  anos, Adultos y ninos, Ninonina,  g / fitness ✗ (toys)\n",
      "4100 82% (0m 42s) nan Samsung Galaxy S Zoom / fitness ✗ (smartphone)\n",
      "4200 84% (0m 43s) nan Hasbro Gaming Twister B / fitness ✗ (toys)\n",
      "4300 86% (0m 44s) nan Traditional Garden Games PARCHIS Gigante, Color Verde  / fitness ✗ (toys)\n",
      "4400 88% (0m 45s) nan Need for Speed Heat / fitness ✗ (games)\n",
      "4500 90% (0m 46s) nan The Great Gatsby / fitness ✗ (book)\n",
      "4600 92% (0m 47s) nan JOE WEIDER VICTORY Protein Spreads Whey Protein  g Choco Cream / fitness ✗ (food)\n",
      "4700 94% (0m 48s) nan The Slim Shady LP Expanded Edition Explicit / fitness ✗ (music)\n",
      "4800 96% (0m 50s) nan Marcy Exercise Upright Fan Bike for Cardio Training and Workout AIR / fitness ✓\n",
      "4900 98% (0m 51s) nan Boombox , Early Independent Hip Hop, Electro And Disco Rap  lp Vinilo / fitness ✗ (music)\n",
      "5000 100% (0m 52s) nan The Sound and the Fury / fitness ✗ (book)\n",
      "Training second network\n",
      "100 2% (0m 1s) 2.0900 DYSD Junta Cornhole Parte Juego del Patio Trasero Plegable Portable Ligero De Juguetes con Lanzar Cubierta Bean Bags Familia Ourdoor / smartphone ✗ (toys)\n",
      "200 4% (0m 3s) 2.1134 BATTLEFIELD   Standard / music ✗ (games)\n",
      "300 6% (0m 4s) 2.0917 Precor EFX  Precision Series Elliptical Crosstrainer / smartphone ✗ (fitness)\n",
      "400 8% (0m 6s) 2.0767 Marca Amazon  Solimo Capsulas Ristretto, compatibles con Nespresso  cafe certificado UTZ,  capsulas  x  / smartphone ✗ (food)\n",
      "500 10% (0m 7s) 2.0756 Samsung Galaxy Grand Prime / book ✗ (smartphone)\n",
      "600 12% (0m 8s) 2.0658 HUEVOS CHOCO MIX LOL U / fitness ✗ (food)\n",
      "700 14% (0m 10s) 2.0081 The Great Gatsby / music ✗ (book)\n",
      "800 16% (0m 11s) 1.9526 Parallels / fitness ✓\n",
      "900 18% (0m 13s) 2.0162 Google Pixel  / games ✗ (smartphone)\n",
      "1000 20% (0m 15s) 2.0919 DYSD Junta Cornhole Parte Juego del Patio Trasero Plegable Portable Ligero De Juguetes con Lanzar Cubierta Bean Bags Familia Ourdoor / fitness ✗ (toys)\n",
      "1100 22% (0m 16s) 2.1214 Hasbro Gaming  Juego de mesa Gestos B / smartphone ✗ (toys)\n",
      "1200 24% (0m 18s) 2.0602 Tranjis Games  Virus  Juego de cartas TRGvir / fitness ✗ (toys)\n",
      "1300 26% (0m 19s) 2.1410 First Generation Rap  The Old School, Volume  / toys ✗ (music)\n",
      "1400 28% (0m 21s) 1.7249 Gourmet Cuartos de Corazones de Alcachofa   g / food ✓\n",
      "1500 30% (0m 22s) 1.9843 Nutella, Chocolate para untar   gr. / food ✓\n",
      "1600 32% (0m 23s) 1.9920 iron dumbbell kg / food ✗ (fitness)\n",
      "1700 34% (0m 25s) 1.7895 Marcy SelfRegenerating Magnetic Elliptical with  Adjustable Resistance Levels,  Workout Programs and Transport Wheels ME, Silver / fitness ✓\n",
      "1800 36% (0m 26s) 1.7806 Nautilus E Elliptical Trainer / fitness ✓\n",
      "1900 38% (0m 28s) 2.0012 Apis Tomate Frito  Paquete de  x  gr  Total  gr / fitness ✗ (food)\n",
      "2000 40% (0m 29s) 1.6963 Marcy SelfRegenerating Magnetic Elliptical with  Adjustable Resistance Levels,  Workout Programs and Transport Wheels ME, Silver / fitness ✓\n",
      "2100 42% (0m 31s) 2.1461 Marca Amazon  Solimo Capsulas Ristretto, compatibles con Nespresso  cafe certificado UTZ,  capsulas  x  / toys ✗ (food)\n",
      "2200 44% (0m 32s) 2.1403 Nexus One / clothes ✗ (smartphone)\n",
      "2300 46% (0m 33s) 1.3309 Joma Miami Bermuda Deporte de Tenis, Hombre / clothes ✓\n",
      "2400 48% (0m 35s) 1.8740 Boombox , Early Independent Hip Hop, Electro And Disco Rap  lp Vinilo / music ✓\n",
      "2500 50% (0m 37s) 2.1410 LITORAL Hoy Legumbres Alubias con su sofrito, Plato Preparado Sin Gluten / games ✗ (food)\n",
      "2600 52% (0m 38s) 1.7305 Sunny Health  Fitness SFRW Air Rowing Machine Rower wLCD Monitor / fitness ✓\n",
      "2700 54% (0m 40s) 1.3319 Gourmet Cuartos de Corazones de Alcachofa   g / food ✓\n",
      "2800 56% (0m 42s) 1.9526 Apis Tomate Frito  Paquete de  x  gr  Total  gr / fitness ✗ (food)\n",
      "2900 57% (0m 44s) 1.8005 Panasonic P / food ✗ (smartphone)\n",
      "3000 60% (0m 46s) 1.6395 LEGO Classic  Caja de Ladrillos Creativa Mediana, Juguete de Construccion  / toys ✓\n",
      "3100 62% (0m 47s) 1.6336 Apis Tomate Frito  Paquete de  x  gr  Total  gr / food ✓\n",
      "3200 64% (0m 49s) 0.7880 NIKE Club Short JSY  Pantalones Cortos Hombre / clothes ✓\n",
      "3300 66% (0m 50s) 1.6891 Don Quixote / clothes ✗ (book)\n",
      "3400 68% (0m 51s) 1.5459 Blacksad Under The Skin  Limited Edition / games ✓\n",
      "3500 70% (0m 53s) 1.8472 The Iliad / games ✗ (book)\n",
      "3600 72% (0m 54s) 1.4814 The Divine Comedy / book ✓\n",
      "3700 74% (0m 55s) 1.6550 Alice's Adventures in Wonderland / music ✗ (book)\n",
      "3800 76% (0m 57s) 1.6642 FIFA   Standard / clothes ✗ (games)\n",
      "3900 78% (0m 58s) 1.6736 PLANTS VS ZOMBIES GARDEN WARFARE   Standard / games ✓\n",
      "4000 80% (1m 0s) 2.4555 HTC Hero / clothes ✗ (smartphone)\n",
      "4100 82% (1m 1s) 2.6824 adidas Solid Crew, Calcetines Unisex Adulto, paquete de  / toys ✗ (clothes)\n",
      "4200 84% (1m 3s) 2.1587 Hasbro Don't Step In It Estuche de Juego  Juegos y Juguetes de HabilidadActivos Estuche de Juego, Multicolor,  anos, Adultos y ninos, Ninonina,  g / food ✗ (toys)\n",
      "4300 86% (1m 4s) 0.2997 Joma Pantalon Championship IV Largo, Hombre / clothes ✓\n",
      "4400 88% (1m 5s) 2.1762 Meteora / clothes ✗ (music)\n",
      "4500 90% (1m 7s) 1.8278 Trap Lord / games ✗ (music)\n",
      "4600 92% (1m 8s) 2.0887 Total War Three Kingdoms  Edicion Limitado / music ✗ (games)\n",
      "4700 94% (1m 10s) 0.1567 Joma Academy Chandal Caballero, Hombre / clothes ✓\n",
      "4800 96% (1m 11s) 2.1238 Push ups / toys ✗ (fitness)\n",
      "4900 98% (1m 12s) 2.3544 Stevie Wonder The Definitive Collection  / toys ✗ (music)\n",
      "5000 100% (1m 14s) 2.3363 Snatts  Palitos De Trigo Con Olivas Y Ssamo  g / music ✗ (food)\n"
     ]
    }
   ],
   "source": [
    "def train(model, category_tensor, line_tensor, criterion, learning_rate):\n",
    "    hidden = model.init_hidden()\n",
    "\n",
    "    model.zero_grad()\n",
    "\n",
    "    for i in range(line_tensor.size()[0]):\n",
    "        output, hidden = model(line_tensor[i], hidden)\n",
    "\n",
    "    loss = criterion(output, category_tensor)\n",
    "    loss.backward()\n",
    "\n",
    "    # Add parameters' gradients to their values, multiplied by learning rate\n",
    "    for p in model.parameters():\n",
    "        p.data.add_(-learning_rate, p.grad.data)\n",
    "\n",
    "    return output, loss.item()\n",
    "\n",
    "\n",
    "def train_loop(model, criterion, categories, dataset, epochs,  learning_rate, print_every, plot_every):\n",
    "    current_loss = 0\n",
    "    all_losses = []\n",
    "\n",
    "    # optimizer = optim.SGD(rnn.parameters(), lr=LEARNING_RATE)\n",
    "\n",
    "    def time_since(since):\n",
    "        now = time.time()\n",
    "        s = now - since\n",
    "        m = math.floor(s / 60)\n",
    "        s -= m * 60\n",
    "        return '%dm %ds' % (m, s)\n",
    "\n",
    "    start = time.time()\n",
    "\n",
    "    for iter in range(1, epochs + 1):\n",
    "        model.zero_grad()\n",
    "        category, line, category_tensor, line_tensor = random_training_example(categories, dataset)\n",
    "        output, loss = train(model, category_tensor, line_tensor, criterion, learning_rate)\n",
    "        current_loss += loss\n",
    "        # optimizer.step()\n",
    "        # Print iter number, loss, name and guess\n",
    "        if iter % print_every == 0:\n",
    "            guess, guess_i = category_from_output(categories, output)\n",
    "            correct = '✓' if guess == category else '✗ (%s)' % category\n",
    "            print('%d %d%% (%s) %.4f %s / %s %s' %\n",
    "                  (iter, iter / epochs * 100, time_since(start), loss, line, guess, correct))\n",
    "\n",
    "        # Add current loss avg to list of losses\n",
    "        if iter % plot_every == 0:\n",
    "            all_losses.append(current_loss / plot_every)\n",
    "            current_loss = 0\n",
    "    return model, all_losses\n",
    "\n",
    "\n",
    "\n",
    "if EXEC_MODE == 1:\n",
    "    print(\"Training network\")\n",
    "    rnn, all_losses = train_loop(rnn, criterion, all_categories, training_dataset, EPOCHS, LEARNING_RATE, PRINT_EVERY, PLOT_EVERY)\n",
    "if EXEC_MODE == 2:\n",
    "    print(\"Training first network\")\n",
    "    rnn, all_losses = train_loop(rnn, criterion, all_categories, training_dataset, EPOCHS, LEARNING_RATE, PRINT_EVERY, PLOT_EVERY)\n",
    "    print(\"Training second network\")\n",
    "    rnn2, all_losses2 = train_loop(rnn2, criterion, all_categories, training_dataset, EPOCHS, LEARNING_RATE, PRINT_EVERY, PLOT_EVERY)"
   ],
   "metadata": {
    "collapsed": false,
    "pycharm": {
     "name": "#%%\n"
    }
   }
  },
  {
   "cell_type": "markdown",
   "source": [
    "## Plotting info\n",
    "1. One plot is a square of classes, in every square is represented the\n",
    "index of times is predicted one class when it's the other\n",
    "It's good to be yellow on diagonal\n",
    "2. The other is de function loss progression"
   ],
   "metadata": {
    "collapsed": false
   }
  },
  {
   "cell_type": "code",
   "execution_count": 13,
   "outputs": [
    {
     "data": {
      "text/plain": "<Figure size 432x288 with 1 Axes>",
      "image/png": "[encoded data removed]"
     },
     "metadata": {
      "needs_background": "light"
     },
     "output_type": "display_data"
    },
    {
     "data": {
      "text/plain": "<Figure size 432x288 with 1 Axes>",
      "image/png": "[encoded data removed]"
     },
     "metadata": {
      "needs_background": "light"
     },
     "output_type": "display_data"
    },
    {
     "data": {
      "text/plain": "<Figure size 432x288 with 2 Axes>",
      "image/png": "[encoded data removed]"
     },
     "metadata": {
      "needs_background": "light"
     },
     "output_type": "display_data"
    },
    {
     "data": {
      "text/plain": "<Figure size 432x288 with 2 Axes>",
      "image/png": "[encoded data removed]"
     },
     "metadata": {
      "needs_background": "light"
     },
     "output_type": "display_data"
    }
   ],
   "source": [
    "def evaluate(model, line_tensor):\n",
    "    hidden = model.init_hidden()\n",
    "\n",
    "    for i in range(line_tensor.size()[0]):\n",
    "        output, hidden = model(line_tensor[i], hidden)\n",
    "\n",
    "    return output\n",
    "\n",
    "\n",
    "def predict(model, input_line, all_categories, n_predictions=3):\n",
    "    print('\\n> %s' % input_line)\n",
    "    with torch.no_grad():\n",
    "        output = evaluate(model, line_to_tensor(input_line))\n",
    "\n",
    "        # Get top N categories\n",
    "        topv, topi = output.topk(n_predictions, 1, True)\n",
    "        predictions = []\n",
    "\n",
    "        for i in range(n_predictions):\n",
    "            value = topv[0][i].item()\n",
    "            category_index = topi[0][i].item()\n",
    "            print('(%.2f) %s' % (value, all_categories[category_index]))\n",
    "            predictions.append([value, all_categories[category_index]])\n",
    "\n",
    "\n",
    "def test_with_plot(model, dataset, categories):\n",
    "    n_categories = len(categories)\n",
    "    # Keep track of correct guesses in a confusion matrix\n",
    "    confusion = torch.zeros(n_categories, n_categories)\n",
    "    n_confusion = 10000\n",
    "\n",
    "    # Go through a bunch of examples and record which are correctly guessed\n",
    "    for i in range(n_confusion):\n",
    "        category, line, category_tensor, line_tensor = random_training_example(categories, dataset)\n",
    "        output = evaluate(model, line_tensor)\n",
    "        guess, guess_i = category_from_output(categories, output)\n",
    "        category_i = categories.index(category)\n",
    "        confusion[category_i][guess_i] += 1\n",
    "\n",
    "    # Normalize by dividing every row by its sum\n",
    "    for i in range(n_categories):\n",
    "        confusion[i] = confusion[i] / confusion[i].sum()\n",
    "\n",
    "    # Set up plot\n",
    "    fig = plt.figure()\n",
    "\n",
    "    ax = fig.add_subplot(111)\n",
    "    cax = ax.matshow(confusion.numpy())\n",
    "    fig.colorbar(cax)\n",
    "\n",
    "    # Set up axes\n",
    "    ax.set_xticklabels([''] + categories, rotation=90)\n",
    "    ax.set_yticklabels([''] + categories)\n",
    "\n",
    "    # Force label at every tick\n",
    "    ax.xaxis.set_major_locator(ticker.MultipleLocator(1))\n",
    "    ax.yaxis.set_major_locator(ticker.MultipleLocator(1))\n",
    "\n",
    "    # sphinx_gallery_thumbnail_number = 2\n",
    "    plt.show()\n",
    "\n",
    "\n",
    "if EXEC_MODE == 1 or EXEC_MODE == 2:\n",
    "    plt.figure()\n",
    "    plt.plot(all_losses)\n",
    "if EXEC_MODE == 2:\n",
    "    plt.figure()\n",
    "    plt.plot(all_losses2)\n",
    "\n",
    "test_with_plot(rnn, test_dataset, all_categories)\n",
    "if EXEC_MODE == 2:\n",
    "    test_with_plot(rnn2, test_dataset, all_categories)"
   ],
   "metadata": {
    "collapsed": false,
    "pycharm": {
     "name": "#%%\n"
    }
   }
  },
  {
   "cell_type": "markdown",
   "source": [
    "## Saving and Loading\n",
    "Saving and Loading model functions"
   ],
   "metadata": {
    "collapsed": false
   }
  },
  {
   "cell_type": "code",
   "execution_count": 14,
   "outputs": [],
   "source": [
    "save_checkpoint(rnn, PATH)\n",
    "if EXEC_MODE == 2:\n",
    "    save_checkpoint(rnn2, PATH2)"
   ],
   "metadata": {
    "collapsed": false,
    "pycharm": {
     "name": "#%%\n"
    }
   }
  },
  {
   "cell_type": "markdown",
   "source": [
    "### Some predicts"
   ],
   "metadata": {
    "collapsed": false
   }
  },
  {
   "cell_type": "code",
   "execution_count": 15,
   "outputs": [
    {
     "name": "stdout",
     "output_type": "stream",
     "text": [
      "\n",
      "> Hasbro Gaming Don't Step In It Unorne  Juego de Mesa con Texto en frances\n",
      "(nan) book\n",
      "(nan) music\n",
      "(nan) fitness\n",
      "\n",
      "> Falomir Coloca  Juego de Mesa, Multicolor, unica \n",
      "(nan) book\n",
      "(nan) music\n",
      "(nan) fitness\n",
      "\n",
      "> Mattel Games UNO classic, juego de cartas Mattel W\n",
      "(nan) book\n",
      "(nan) music\n",
      "(nan) fitness\n",
      "\n",
      "> One More Light\n",
      "(nan) book\n",
      "(nan) music\n",
      "(nan) fitness\n",
      "\n",
      "> Black Pumas Vinilo\n",
      "(nan) book\n",
      "(nan) music\n",
      "(nan) fitness\n",
      "\n",
      "> ASTROWORLD Explicit\n",
      "(nan) book\n",
      "(nan) music\n",
      "(nan) fitness\n",
      "\n",
      "> Hold On I'm Coming  gm vinyl Vinilo\n",
      "(nan) book\n",
      "(nan) music\n",
      "(nan) fitness\n",
      "\n",
      "> The Adventures of Huckleberry Finn\n",
      "(nan) book\n",
      "(nan) music\n",
      "(nan) fitness\n",
      "\n",
      "> Pride and Prejudice\n",
      "(nan) book\n",
      "(nan) music\n",
      "(nan) fitness\n",
      "\n",
      "> Nokia  PureView\n",
      "(nan) book\n",
      "(nan) music\n",
      "(nan) fitness\n",
      "\n",
      "> HTC Magic\n",
      "(nan) book\n",
      "(nan) music\n",
      "(nan) fitness\n",
      "\n",
      "> HTC Dream\n",
      "(nan) book\n",
      "(nan) music\n",
      "(nan) fitness\n",
      "\n",
      "> Adidas Regista   Pantalones de futbol para Hombre\n",
      "(nan) book\n",
      "(nan) music\n",
      "(nan) fitness\n",
      "\n",
      "> Nike Yth Park Ii Knit Short Nb, Pantalon Corto, Ninos\n",
      "(nan) book\n",
      "(nan) music\n",
      "(nan) fitness\n",
      "\n",
      "> NIKE Swoosh Headband Banda para la Cabeza, Unisex Adulto\n",
      "(nan) book\n",
      "(nan) music\n",
      "(nan) fitness\n",
      "\n",
      "> Calvo Calamares en Salsa Americana  Paquete de  x  g  Total  g\n",
      "(nan) book\n",
      "(nan) music\n",
      "(nan) fitness\n",
      "\n",
      "> Mantequilla de Cacahuete de HSN  Textura Suave y Cremosa  Peanut Butter Smooth   Natural  Apto Vegetariano, Sin grasa de palma, Sin grasa trans, Sin azucar ni sal anadidos, g\n",
      "(nan) book\n",
      "(nan) music\n",
      "(nan) fitness\n",
      "\n",
      "> Valor Chocolatissimo Surtido   gr\n",
      "(nan) book\n",
      "(nan) music\n",
      "(nan) fitness\n",
      "\n",
      "> STAR WARS BATTLEFRONT II  Standard\n",
      "(nan) book\n",
      "(nan) music\n",
      "(nan) fitness\n",
      "\n",
      "> Heavy Rain\n",
      "(nan) book\n",
      "(nan) music\n",
      "(nan) fitness\n",
      "\n",
      "> Death's Gambit\n",
      "(nan) book\n",
      "(nan) music\n",
      "(nan) fitness\n",
      "\n",
      "> Final Fantasy XIV Shadowbringers  Complete Edition\n",
      "(nan) book\n",
      "(nan) music\n",
      "(nan) fitness\n",
      "\n",
      "> kg kettlebell\n",
      "(nan) book\n",
      "(nan) music\n",
      "(nan) fitness\n",
      "\n",
      "> LifeSpan TRDT Under Desk Treadmill\n",
      "(nan) book\n",
      "(nan) music\n",
      "(nan) fitness\n",
      "\n",
      "> Velocity Exercise Magnetic Rower\n",
      "(nan) book\n",
      "(nan) music\n",
      "(nan) fitness\n",
      "\n",
      "> Sunny Health  Fitness SFTM Manual Walking Treadmill, Gray\n",
      "(nan) book\n",
      "(nan) music\n",
      "(nan) fitness\n"
     ]
    }
   ],
   "source": [
    "for key in view_dataset.keys():\n",
    "    for value in view_dataset[key]:\n",
    "        predict(rnn, value, all_categories, 3)"
   ],
   "metadata": {
    "collapsed": false,
    "pycharm": {
     "name": "#%%\n"
    }
   }
  }
 ],
 "metadata": {
  "kernelspec": {
   "display_name": "Python 3",
   "language": "python",
   "name": "python3"
  },
  "language_info": {
   "codemirror_mode": {
    "name": "ipython",
    "version": 2
   },
   "file_extension": ".py",
   "mimetype": "text/x-python",
   "name": "python",
   "nbconvert_exporter": "python",
   "pygments_lexer": "ipython2",
   "version": "2.7.6"
  }
 },
 "nbformat": 4,
 "nbformat_minor": 0
}