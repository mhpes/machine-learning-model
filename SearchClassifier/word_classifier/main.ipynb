{
 "cells": [
  {
   "cell_type": "markdown",
   "source": [
    "## Imports"
   ],
   "metadata": {
    "collapsed": false,
    "pycharm": {
     "name": "#%% md\n"
    }
   }
  },
  {
   "cell_type": "code",
   "execution_count": 1,
   "outputs": [],
   "source": [
    "from __future__ import unicode_literals, print_function, division\n",
    "from io import open\n",
    "import glob\n",
    "import os\n",
    "import random\n",
    "import unicodedata\n",
    "import string\n",
    "import torch\n",
    "import time\n",
    "import math\n",
    "import matplotlib.pyplot as plt\n",
    "import matplotlib.ticker as ticker\n",
    "from torch import nn, optim\n",
    "from SearchClassifier.word_classifier.data_loader import random_training_example, split_dataset\n",
    "from SearchClassifier.word_classifier.mutiLayerRNN import MultilayerRnn\n",
    "from SearchClassifier.word_classifier.predict import evaluate, predict\n",
    "from SearchClassifier.word_classifier.rnn import RNN\n",
    "from SearchClassifier.word_classifier.test import test_with_plot\n",
    "from SearchClassifier.word_classifier.train import train, train_loop\n",
    "from SearchClassifier.word_classifier.utils import unicode_to_ascii, letter_to_tensor, line_to_tensor, n_letters, \\\n",
    "    category_from_output, load_checkpoint, save_checkpoint"
   ],
   "metadata": {
    "collapsed": false,
    "pycharm": {
     "name": "#%%\n"
    }
   }
  },
  {
   "cell_type": "markdown",
   "source": [
    "## Global variables\n",
    "Change for running configuration"
   ],
   "metadata": {
    "collapsed": false,
    "pycharm": {
     "name": "#%% md\n"
    }
   }
  },
  {
   "cell_type": "code",
   "execution_count": 2,
   "outputs": [],
   "source": [
    "TRAINING_PERCENT = 70\n",
    "TEST_PERCENT = 20\n",
    "VIEW_PERCENT = 10\n",
    "LEARNING_RATE = 0.005  # If you set this too high, it might explode. If too low, it might not learn\n",
    "EPOCHS = 5000\n",
    "PRINT_EVERY = 100\n",
    "PLOT_EVERY = 100\n",
    "N_HIDDEN = 128\n",
    "EXEC_MODE = 2\n",
    "PATH = \"models/model.pt\"\n",
    "PATH2 = \"models/model2.pt\""
   ],
   "metadata": {
    "collapsed": false,
    "pycharm": {
     "name": "#%%\n"
    }
   }
  },
  {
   "cell_type": "markdown",
   "source": [
    "### Configuration\n",
    "Data loading and environment configuration"
   ],
   "metadata": {
    "collapsed": false,
    "pycharm": {
     "name": "#%% md\n"
    }
   }
  },
  {
   "cell_type": "code",
   "execution_count": 3,
   "outputs": [
    {
     "name": "stdout",
     "output_type": "stream",
     "text": [
      "['data/products/toys.txt', 'data/products/music.txt', 'data/products/book.txt', 'data/products/smartphone.txt', 'data/products/clothes.txt', 'data/products/food.txt', 'data/products/games.txt', 'data/products/fitness.txt']\n"
     ]
    },
    {
     "data": {
      "text/plain": "torch.Size([10, 1, 57])"
     },
     "execution_count": 3,
     "metadata": {},
     "output_type": "execute_result"
    }
   ],
   "source": [
    "def find_files(path): return glob.glob(path)\n",
    "\n",
    "\n",
    "print(find_files('data/products/*.txt'))\n",
    "\n",
    "# Build the category_lines dictionary, a list of names per language\n",
    "category_lines = {}\n",
    "all_categories = []\n",
    "\n",
    "\n",
    "# Read a file and split into lines\n",
    "def read_lines(filename):\n",
    "    lines = open(filename, encoding='utf-8').read().strip().split('\\n')\n",
    "    return [unicode_to_ascii(line) for line in lines]\n",
    "\n",
    "\n",
    "for filename in find_files('data/products/*.txt'):\n",
    "    category = os.path.splitext(os.path.basename(filename))[0]\n",
    "    all_categories.append(category)\n",
    "    lines = read_lines(filename)\n",
    "    category_lines[category] = lines\n",
    "\n",
    "n_categories = len(all_categories)\n",
    "\n",
    "training_dataset, test_dataset, view_dataset = split_dataset(category_lines, TRAINING_PERCENT, TEST_PERCENT, VIEW_PERCENT)\n",
    "\n",
    "line_to_tensor('Jose Ramón').size()"
   ],
   "metadata": {
    "collapsed": false,
    "pycharm": {
     "name": "#%%\n"
    }
   }
  },
  {
   "cell_type": "markdown",
   "source": [
    "## Creating RNN"
   ],
   "metadata": {
    "collapsed": false,
    "pycharm": {
     "name": "#%% md\n"
    }
   }
  },
  {
   "cell_type": "code",
   "execution_count": 4,
   "outputs": [
    {
     "data": {
      "text/plain": "RNN(\n  (i2h): Linear(in_features=185, out_features=128, bias=True)\n  (i2o): Linear(in_features=185, out_features=8, bias=True)\n  (softmax): LogSoftmax()\n)"
     },
     "execution_count": 4,
     "metadata": {},
     "output_type": "execute_result"
    }
   ],
   "source": [
    "if EXEC_MODE == 1:\n",
    "    rnn = RNN(n_letters, N_HIDDEN, n_categories)\n",
    "elif EXEC_MODE == 2:\n",
    "    rnn = RNN(n_letters, N_HIDDEN, n_categories)\n",
    "    rnn2 = MultilayerRnn(n_letters, N_HIDDEN, n_categories)\n",
    "else:\n",
    "    print(\"Loading network\")\n",
    "    rnn = RNN(n_letters, N_HIDDEN, n_categories)\n",
    "    rnn = load_checkpoint(rnn, PATH)\n",
    "    #rnn.eval()\n",
    "inputChar = letter_to_tensor('A')\n",
    "\n",
    "hidden = torch.zeros(1, N_HIDDEN)\n",
    "\n",
    "rnn"
   ],
   "metadata": {
    "collapsed": false,
    "pycharm": {
     "name": "#%%\n"
    }
   }
  },
  {
   "cell_type": "markdown",
   "source": [
    "### Getting output"
   ],
   "metadata": {
    "collapsed": false,
    "pycharm": {
     "name": "#%% md\n"
    }
   }
  },
  {
   "cell_type": "code",
   "execution_count": 5,
   "outputs": [
    {
     "data": {
      "text/plain": "('music', 1)"
     },
     "execution_count": 5,
     "metadata": {},
     "output_type": "execute_result"
    }
   ],
   "source": [
    "output, next_hidden = rnn(inputChar, hidden)\n",
    "category_from_output(all_categories, output)"
   ],
   "metadata": {
    "collapsed": false,
    "pycharm": {
     "name": "#%%\n"
    }
   }
  },
  {
   "cell_type": "markdown",
   "source": [
    "### Showing samples"
   ],
   "metadata": {
    "collapsed": false,
    "pycharm": {
     "name": "#%% md\n"
    }
   }
  },
  {
   "cell_type": "code",
   "execution_count": 6,
   "outputs": [
    {
     "name": "stdout",
     "output_type": "stream",
     "text": [
      "category = music / line = Californication\n",
      "category = music / line = Rolling Papers\n",
      "category = smartphone / line = Samsung Galaxy Note Edge\n",
      "category = smartphone / line = Meizu MX\n",
      "category = food / line = Bombones Lindor Cornet Blanco Lindt\n",
      "category = smartphone / line = Samsung Galaxy S Zoom\n",
      "category = clothes / line = NIKE M NP Short Pantalones Cortos de Deporte, Hombre\n",
      "category = toys / line = Djeco Juegos de accion y reflejosJuegos educativosDJECOJuego Mosquito, Multicolor \n",
      "category = smartphone / line = OnePlus \n",
      "category = toys / line = Tranjis Games  Virus  Juego de cartas TRGvir\n"
     ]
    }
   ],
   "source": [
    "for i in range(10):\n",
    "    category, line, category_tensor, line_tensor = random_training_example(all_categories, training_dataset)\n",
    "    print('category =', category, '/ line =', line)"
   ],
   "metadata": {
    "collapsed": false,
    "pycharm": {
     "name": "#%%\n"
    }
   }
  },
  {
   "cell_type": "markdown",
   "source": [
    "### Defining criterion\n",
    "NLLLoss() is good because the last layer of the RNN is nn.LogSoftmax I have to see the different criterion and activation functions"
   ],
   "metadata": {
    "collapsed": false,
    "pycharm": {
     "name": "#%% md\n"
    }
   }
  },
  {
   "cell_type": "code",
   "execution_count": 7,
   "outputs": [],
   "source": [
    "if EXEC_MODE == 1 or EXEC_MODE == 2:\n",
    "    criterion = nn.NLLLoss()"
   ],
   "metadata": {
    "collapsed": false,
    "pycharm": {
     "name": "#%%\n"
    }
   }
  },
  {
   "cell_type": "markdown",
   "source": [
    "## Training\n",
    "each loop of training\n",
    "  1) Create input and target tensors\n",
    "  2) Create zeroed initial hidden state\n",
    "  3) Read each letter in and keep hidden state for next letter\n",
    "  4) Compare final output to target\n",
    "  5) Back-propagate\n",
    "  6) Return to output and loss\n",
    "Keep track of losses for plotting"
   ],
   "metadata": {
    "collapsed": false,
    "pycharm": {
     "name": "#%% md\n"
    }
   }
  },
  {
   "cell_type": "code",
   "execution_count": 8,
   "outputs": [
    {
     "name": "stdout",
     "output_type": "stream",
     "text": [
      "Training first network\n",
      "100 2% (0m 0s) 2.0814 Moto Z Play / book ✗ (smartphone)\n",
      "200 4% (0m 1s) 2.0880 NIKE Jordan Clc Snapback Gorra, Unisex Adulto / book ✗ (clothes)\n",
      "300 6% (0m 2s) 2.0522 AGE OF MYTHOLOGY GOLD EDITION / fitness ✗ (games)\n",
      "400 8% (0m 3s) 2.0156 Djeco Juegos de accion y reflejosJuegos educativosDJECOJuego Mosquito, Multicolor  / clothes ✗ (toys)\n",
      "500 10% (0m 4s) 2.0415 Knorr Sopa China de Sichuan   g / games ✗ (food)\n",
      "600 12% (0m 5s) 1.9970 Lindt Lindor Tableta de Chocolate Blanco,  g / food ✓\n",
      "700 14% (0m 6s) 2.0916 Joma Nobel Pantalon de equipacion / games ✗ (clothes)\n",
      "800 16% (0m 7s) 1.8061 Velocity Exercise Gray Magnetic Upright Exercise Bike / fitness ✓\n",
      "900 18% (0m 8s) 1.9133 Whatever People Say I Am That's What I Am Not Vinilo / music ✓\n",
      "1000 20% (0m 9s) 2.0336 Catch / music ✗ (book)\n",
      "1100 22% (0m 10s) 2.0130 Ulysses / toys ✗ (book)\n",
      "1200 24% (0m 11s) 1.9133 Saint Cloud Vinilo / music ✓\n",
      "1300 26% (0m 12s) 1.5397 adidas Core TR SHO Pantalones Cortos de Deporte, Hombre / clothes ✓\n",
      "1400 28% (0m 14s) 1.8958 LG Optimus L / toys ✗ (smartphone)\n",
      "1500 30% (0m 15s) 1.5495 Lindt Lindor Tableta de Chocolate Blanco,  g / food ✓\n",
      "1600 32% (0m 16s) 1.6451 Callebaut oscuro Callets NV .kg / food ✓\n",
      "1700 34% (0m 17s) 1.3422 Knorr Sopa China de Sichuan   g / food ✓\n",
      "1800 36% (0m 18s) 2.0974 DUAL, Pro FatBurner  Adelgazar Sin Deporte  Quemador de Grasa Para Mujeres y Hombres  Para Perdida de Peso   Capsulas Para Dieta Keto Sin Aditivos  Natural  Vegano  Sin Gluten  / toys ✗ (food)\n",
      "1900 38% (0m 19s) 1.9882 NIKE Y Nk Dry Park VII JSY SS Camiseta de Manga Corta, Unisex ninos / toys ✗ (clothes)\n",
      "2000 40% (0m 20s) 1.8370 Ravensburger  Harry potter  / toys ✓\n",
      "2100 42% (0m 21s) 1.8239 FIFA   Standard / games ✓\n",
      "2200 44% (0m 22s) 1.9949 Rolling Papers / clothes ✗ (music)\n",
      "2300 46% (0m 23s) 1.6286 The Odyssey / book ✓\n",
      "2400 48% (0m 24s) 1.0419 Yoki Pan De Queso   Paquetes de  gr  Total  gr / food ✓\n",
      "2500 50% (0m 25s) 2.1709 Sid Meier's Civilization VI / food ✗ (games)\n",
      "2600 52% (0m 26s) 1.4265 Stamina Recumbent Exercise Bike with Upper Body Exerciser / fitness ✓\n",
      "2700 54% (0m 26s) 2.0353 Hearts Of Iron IV / food ✗ (games)\n",
      "2800 56% (0m 27s) 2.2799 Samsung Galaxy Note Edge / clothes ✗ (smartphone)\n",
      "2900 57% (0m 28s) 1.8286 Football Manager  / toys ✗ (games)\n",
      "3000 60% (0m 29s) 0.5215 adidas Core TR SHO Pantalones Cortos de Deporte, Hombre / clothes ✓\n",
      "3100 62% (0m 30s) 1.8835 PVZ Battle for Neighborville CIAB / toys ✗ (games)\n",
      "3200 64% (0m 31s) 1.4746 LifeSpan TRDT Under Desk Treadmill / music ✗ (fitness)\n",
      "3300 66% (0m 32s) 0.4034 Joma Academy Chandal Caballero, Hombre / clothes ✓\n",
      "3400 68% (0m 33s) 1.1450 Stamina Recumbent Exercise Bike with Upper Body Exerciser / fitness ✓\n",
      "3500 70% (0m 34s) nan kg kettlebell / fitness ✓\n",
      "3600 72% (0m 35s) nan HTC Magic / fitness ✗ (smartphone)\n",
      "3700 74% (0m 36s) nan What's the Story Morning Glory / fitness ✗ (music)\n",
      "3800 76% (0m 37s) nan Detroit Become Human / fitness ✗ (games)\n",
      "3900 78% (0m 38s) nan NIKE M Nk Dry Acdmy TRK Suit W Chandal, Hombre / fitness ✗ (clothes)\n",
      "4000 80% (0m 39s) nan Hybrid Theory Vinilo / fitness ✗ (music)\n",
      "4100 82% (0m 39s) nan Nike Yth Park Ii Knit Short Nb, Pantalon Corto, Ninos / fitness ✗ (clothes)\n",
      "4200 84% (0m 40s) nan adidas Core Hoody Sudadera con Capucha, Hombre / fitness ✗ (clothes)\n",
      "4300 86% (0m 41s) nan Sid Meier's Civilization VI / fitness ✗ (games)\n",
      "4400 88% (0m 42s) nan Nevermind Remastered / fitness ✗ (music)\n",
      "4500 90% (0m 43s) nan Marcy Exercise Upright Fan Bike for Cardio Training and Workout AIR / fitness ✓\n",
      "4600 92% (0m 44s) nan Nike  Youth Team Club Hoody  Sudadera unisex con capucha para ninos / fitness ✗ (clothes)\n",
      "4700 94% (0m 45s) nan Heart of Darkness / fitness ✗ (book)\n",
      "4800 96% (0m 46s) nan Ulysses / fitness ✗ (book)\n",
      "4900 98% (0m 47s) nan Marcy Magnetic Upright Bike / fitness ✓\n",
      "5000 100% (0m 48s) nan Samsung Galaxy S Zoom / fitness ✗ (smartphone)\n",
      "Training second network\n",
      "100 2% (0m 1s) 2.0392 Djeco Juegos de accion y reflejosJuegos educativosDJECOJuego Mosquito, Multicolor  / games ✗ (toys)\n",
      "200 4% (0m 2s) 2.0919 Joma Nobel Pantalon de equipacion / book ✗ (clothes)\n",
      "300 6% (0m 4s) 2.1046 NIKE Jordan Clc Snapback Gorra, Unisex Adulto / fitness ✗ (clothes)\n",
      "400 8% (0m 6s) 1.9836 ProForm  CSX Recumbent Bike / fitness ✓\n",
      "500 10% (0m 7s) 2.0072 Californication / music ✓\n",
      "600 12% (0m 8s) 2.1455 PLANTS VS ZOMBIES GARDEN WARFARE   Standard / music ✗ (games)\n",
      "700 14% (0m 10s) 1.8471 adidas Core Hoody Sudadera con Capucha, Hombre / clothes ✓\n",
      "800 16% (0m 11s) 1.9452 ASTROWORLD Explicit / music ✓\n",
      "900 18% (0m 12s) 2.0543 Anna Karenina / fitness ✗ (book)\n",
      "1000 20% (0m 14s) 2.1407 Hasbro Gaming Twister B / fitness ✗ (toys)\n",
      "1100 22% (0m 15s) 1.7940 NIKE M Nk Dry Acdmy TRK Suit W Chandal, Hombre / clothes ✓\n",
      "1200 24% (0m 17s) 1.9621 Nautilus Recumbent Bike Series / fitness ✓\n",
      "1300 26% (0m 19s) 1.9663 Catch / book ✓\n",
      "1400 28% (0m 20s) 2.1625 Samung Galaxy S / food ✗ (smartphone)\n",
      "1500 30% (0m 22s) 1.5966 Joma Suez Pantalones, Hombre / clothes ✓\n",
      "1600 32% (0m 23s) 1.4606 NIKE NSW Club Jggr BB Pantalones Deportivos, Hombre / clothes ✓\n",
      "1700 34% (0m 25s) 1.7716 The Odyssey / book ✓\n",
      "1800 36% (0m 26s) 2.0502 Nike Yth Park Ii Knit Short Nb, Pantalon Corto, Ninos / fitness ✗ (clothes)\n",
      "1900 38% (0m 28s) 1.7806 Pride and Prejudice / clothes ✗ (book)\n",
      "2000 40% (0m 29s) 1.9186 Life Fitness ETCXX E CrossTrainer with Track Connect Console / clothes ✗ (fitness)\n",
      "2100 42% (0m 31s) 1.9935 XPLANE   AEROSOFT AIRPORT COLLECTION / book ✗ (games)\n",
      "2200 44% (0m 32s) 1.6790 The Sound and the Fury / book ✓\n",
      "2300 46% (0m 34s) 1.2126 adidas Parma  Intenso Pantalones Cortos para Futbol, Hombre / clothes ✓\n",
      "2400 48% (0m 35s) 2.1042 The Very Best Of Otis Redding / food ✗ (music)\n",
      "2500 50% (0m 36s) 1.7469 Pride and Prejudice / clothes ✗ (book)\n",
      "2600 52% (0m 38s) 1.7129 Yoki Pan De Queso   Paquetes de  gr  Total  gr / food ✓\n",
      "2700 54% (0m 39s) 1.5195 DUAL  Days FatBurner Tea Te Quemador de Grasa para Perdida de Peso  Te desintoxicante  Infusion de Dieta y Para Bajar de PesoTe LimpiadorSuplemento Dietetico NaturalHecho en Alemaniag / food ✓\n",
      "2800 56% (0m 41s) 1.0608 Gourmet Panecillos de Ajo y Perejil   g / food ✓\n",
      "2900 57% (0m 42s) 1.8573 Bowflex BXT Treadmill / fitness ✓\n",
      "3000 60% (0m 44s) 1.8949 wood espalier / food ✗ (fitness)\n",
      "3100 62% (0m 46s) 1.7508 Trap Lord / games ✗ (music)\n",
      "3200 64% (0m 47s) 1.9064 What's the Story Morning Glory / clothes ✗ (music)\n",
      "3300 66% (0m 49s) 1.7004 FIFA   Standard / music ✗ (games)\n",
      "3400 68% (0m 50s) 0.2606 Casa Tarradellas Pate Finas Hierbas   g / food ✓\n",
      "3500 70% (0m 52s) 1.7684 Nautilus Treadmill Series / music ✗ (fitness)\n",
      "3600 72% (0m 55s) 1.6969 Sunny Health  Fitness Compact Folding Magnetic Rowing Machine with LCD Monitor, Bottle Holder,  Inch Slide Rail,  LB Max Weight  Synergy Power Motion  SFRW, Silver / fitness ✓\n",
      "3700 74% (0m 56s) 1.9751 Hasbro  Jenga Refresh Hasbro, AEU / food ✗ (toys)\n",
      "3800 76% (0m 58s) 1.9216 LG G ThinQ / music ✗ (smartphone)\n",
      "3900 78% (0m 59s) 0.6435 NIKE M NP Short Pantalones Cortos de Deporte, Hombre / clothes ✓\n",
      "4000 80% (1m 1s) 2.3357 Hasbro Don't Step In It Estuche de Juego  Juegos y Juguetes de HabilidadActivos Estuche de Juego, Multicolor,  anos, Adultos y ninos, Ninonina,  g / food ✗ (toys)\n",
      "4100 82% (1m 3s) 0.5150 Nike Team Club Hoody  Sudadera para hombre / clothes ✓\n",
      "4200 84% (1m 4s) 1.3924 The Divine Comedy / book ✓\n",
      "4300 86% (1m 5s) 0.4315 Joma Nilo  Pantalones largos para hombre / clothes ✓\n",
      "4400 88% (1m 7s) 0.0993 Knorr Sopa Thai   g / food ✓\n",
      "4500 90% (1m 9s) 1.4212 The Hunting Party / book ✗ (music)\n",
      "4600 92% (1m 10s) 1.2387 Life Fitness ETCXX E CrossTrainer with Track Connect Console / fitness ✓\n",
      "4700 94% (1m 12s) 0.3620 Adidas Tiro  Polyestere Hose Pantalones Deportivos, Hombre / clothes ✓\n",
      "4800 96% (1m 13s) 0.3143 NIKE Dry Academy  Football Top Camiseta, Hombre / clothes ✓\n",
      "4900 98% (1m 15s) 1.1439 The Great Gatsby / book ✓\n",
      "5000 100% (1m 16s) 1.6991 DYSD Junta Cornhole Parte Juego del Patio Trasero Plegable Portable Ligero De Juguetes con Lanzar Cubierta Bean Bags Familia Ourdoor / games ✗ (toys)\n"
     ]
    }
   ],
   "source": [
    "if EXEC_MODE == 1:\n",
    "    print(\"Training network\")\n",
    "    rnn, all_losses = train_loop(rnn, criterion, all_categories, training_dataset, EPOCHS, LEARNING_RATE, PRINT_EVERY, PLOT_EVERY)\n",
    "if EXEC_MODE == 2:\n",
    "    print(\"Training first network\")\n",
    "    rnn, all_losses = train_loop(rnn, criterion, all_categories, training_dataset, EPOCHS, LEARNING_RATE, PRINT_EVERY, PLOT_EVERY)\n",
    "    print(\"Training second network\")\n",
    "    rnn2, all_losses2 = train_loop(rnn2, criterion, all_categories, training_dataset, EPOCHS, LEARNING_RATE, PRINT_EVERY, PLOT_EVERY)"
   ],
   "metadata": {
    "collapsed": false,
    "pycharm": {
     "name": "#%%\n"
    }
   }
  },
  {
   "cell_type": "markdown",
   "source": [
    "## Plotting info\n",
    "1. One plot is a square of classes, in every square is represented the\n",
    "index of times is predicted one class when it's the other\n",
    "It's good to be yellow on diagonal\n",
    "2. The other is de function loss progression"
   ],
   "metadata": {
    "collapsed": false,
    "pycharm": {
     "name": "#%% md\n"
    }
   }
  },
  {
   "cell_type": "code",
   "execution_count": 9,
   "outputs": [
    {
     "data": {
      "text/plain": "<Figure size 432x288 with 1 Axes>",
      "image/png": "[encoded data removed]"
     },
     "metadata": {
      "needs_background": "light"
     },
     "output_type": "display_data"
    },
    {
     "data": {
      "text/plain": "<Figure size 432x288 with 1 Axes>",
      "image/png": "[encoded data removed]"
     },
     "metadata": {
      "needs_background": "light"
     },
     "output_type": "display_data"
    },
    {
     "data": {
      "text/plain": "<Figure size 432x288 with 2 Axes>",
      "image/png": "[encoded data removed]"
     },
     "metadata": {
      "needs_background": "light"
     },
     "output_type": "display_data"
    },
    {
     "data": {
      "text/plain": "<Figure size 432x288 with 2 Axes>",
      "image/png": "[encoded data removed]"
     },
     "metadata": {
      "needs_background": "light"
     },
     "output_type": "display_data"
    }
   ],
   "source": [
    "if EXEC_MODE == 1 or EXEC_MODE == 2:\n",
    "    plt.figure()\n",
    "    plt.plot(all_losses)\n",
    "if EXEC_MODE == 2:\n",
    "    plt.figure()\n",
    "    plt.plot(all_losses2)\n",
    "\n",
    "test_with_plot(rnn, test_dataset, all_categories)\n",
    "if EXEC_MODE == 2:\n",
    "    test_with_plot(rnn2, test_dataset, all_categories)"
   ],
   "metadata": {
    "collapsed": false,
    "pycharm": {
     "name": "#%%\n"
    }
   }
  },
  {
   "cell_type": "markdown",
   "source": [
    "## Saving and Loading\n",
    "Saving and Loading model functions"
   ],
   "metadata": {
    "collapsed": false,
    "pycharm": {
     "name": "#%% md\n"
    }
   }
  },
  {
   "cell_type": "code",
   "execution_count": 10,
   "outputs": [],
   "source": [
    "save_checkpoint(rnn, PATH)\n",
    "if EXEC_MODE == 2:\n",
    "    save_checkpoint(rnn2, PATH2)"
   ],
   "metadata": {
    "collapsed": false,
    "pycharm": {
     "name": "#%%\n"
    }
   }
  },
  {
   "cell_type": "markdown",
   "source": [
    "### Some predicts"
   ],
   "metadata": {
    "collapsed": false
   }
  },
  {
   "cell_type": "code",
   "execution_count": 11,
   "outputs": [
    {
     "name": "stdout",
     "output_type": "stream",
     "text": [
      "\n",
      "> TWISTER  Manta de Picnic, diseno de Juego Twister\n",
      "(nan) book\n",
      "(nan) music\n",
      "(nan) fitness\n",
      "\n",
      "> PlayDoh Bolsa De  Mini Botes Hasbro EU\n",
      "(nan) book\n",
      "(nan) music\n",
      "(nan) fitness\n",
      "\n",
      "> Palabrea, Juego educativo en familia de agilidad mental, Desarrollo del lenguaje Ludilo\n",
      "(nan) book\n",
      "(nan) music\n",
      "(nan) fitness\n",
      "\n",
      "> Death Certificate\n",
      "(nan) book\n",
      "(nan) music\n",
      "(nan) fitness\n",
      "\n",
      "> One More Light\n",
      "(nan) book\n",
      "(nan) music\n",
      "(nan) fitness\n",
      "\n",
      "> Lust For Life\n",
      "(nan) book\n",
      "(nan) music\n",
      "(nan) fitness\n",
      "\n",
      "> Take Care\n",
      "(nan) book\n",
      "(nan) music\n",
      "(nan) fitness\n",
      "\n",
      "> Wuthering Heights\n",
      "(nan) book\n",
      "(nan) music\n",
      "(nan) fitness\n",
      "\n",
      "> Nineteen Eighty Four\n",
      "(nan) book\n",
      "(nan) music\n",
      "(nan) fitness\n",
      "\n",
      "> Samsung Galaxy S\n",
      "(nan) book\n",
      "(nan) music\n",
      "(nan) fitness\n",
      "\n",
      "> Samsung Galaxy Grand Prime\n",
      "(nan) book\n",
      "(nan) music\n",
      "(nan) fitness\n",
      "\n",
      "> Nokia  PureView\n",
      "(nan) book\n",
      "(nan) music\n",
      "(nan) fitness\n",
      "\n",
      "> NIKE Dry Academy  Chandal, Hombre\n",
      "(nan) book\n",
      "(nan) music\n",
      "(nan) fitness\n",
      "\n",
      "> Joma Treviso  Pantalones Cortos Equipamiento Hombre\n",
      "(nan) book\n",
      "(nan) music\n",
      "(nan) fitness\n",
      "\n",
      "> Nike W Np Pro Classic Swoosh Bra, Sujetador deportivo para Mujer\n",
      "(nan) book\n",
      "(nan) music\n",
      "(nan) fitness\n",
      "\n",
      "> HUEVOS CHOCO MIX LOL U\n",
      "(nan) book\n",
      "(nan) music\n",
      "(nan) fitness\n",
      "\n",
      "> Levadura seca panadera,  gr\n",
      "(nan) book\n",
      "(nan) music\n",
      "(nan) fitness\n",
      "\n",
      "> Gourmet Yemas Esparragos Blancos   g\n",
      "(nan) book\n",
      "(nan) music\n",
      "(nan) fitness\n",
      "\n",
      "> Assassin's Creed III  Liberation Remaster\n",
      "(nan) book\n",
      "(nan) music\n",
      "(nan) fitness\n",
      "\n",
      "> Football Manager \n",
      "(nan) book\n",
      "(nan) music\n",
      "(nan) fitness\n",
      "\n",
      "> Life Is Strange Before the Storm  Limited Edition\n",
      "(nan) book\n",
      "(nan) music\n",
      "(nan) fitness\n",
      "\n",
      "> Total War Three Kingdoms  Edicion Limitado\n",
      "(nan) book\n",
      "(nan) music\n",
      "(nan) fitness\n",
      "\n",
      "> Heavy elastic band\n",
      "(nan) book\n",
      "(nan) music\n",
      "(nan) fitness\n",
      "\n",
      "> Sunny Health  Fitness SFRW Air Rowing Machine Rower wLCD Monitor\n",
      "(nan) book\n",
      "(nan) music\n",
      "(nan) fitness\n",
      "\n",
      "> k plastic dumbbell\n",
      "(nan) book\n",
      "(nan) music\n",
      "(nan) fitness\n",
      "\n",
      "> ProGear  Rower with Additional Multi Exercise Workout Capability, Black\n",
      "(nan) book\n",
      "(nan) music\n",
      "(nan) fitness\n"
     ]
    }
   ],
   "source": [
    "for key in view_dataset.keys():\n",
    "    for value in view_dataset[key]:\n",
    "        predict(rnn, value, all_categories, 3)"
   ],
   "metadata": {
    "collapsed": false,
    "pycharm": {
     "name": "#%%\n"
    }
   }
  }
 ],
 "metadata": {
  "kernelspec": {
   "display_name": "Python 3",
   "language": "python",
   "name": "python3"
  },
  "language_info": {
   "codemirror_mode": {
    "name": "ipython",
    "version": 2
   },
   "file_extension": ".py",
   "mimetype": "text/x-python",
   "name": "python",
   "nbconvert_exporter": "python",
   "pygments_lexer": "ipython2",
   "version": "2.7.6"
  }
 },
 "nbformat": 4,
 "nbformat_minor": 0
}