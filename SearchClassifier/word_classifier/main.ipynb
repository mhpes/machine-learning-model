{
 "cells": [
  {
   "cell_type": "markdown",
   "source": [
    "## Imports"
   ],
   "metadata": {
    "collapsed": false,
    "pycharm": {
     "name": "#%% md\n"
    }
   }
  },
  {
   "cell_type": "code",
   "execution_count": 1,
   "outputs": [],
   "source": [
    "from __future__ import unicode_literals, print_function, division\n",
    "from io import open\n",
    "import glob\n",
    "import os\n",
    "import random\n",
    "import unicodedata\n",
    "import string\n",
    "import torch\n",
    "import time\n",
    "import math\n",
    "import matplotlib.pyplot as plt\n",
    "import matplotlib.ticker as ticker\n",
    "from torch import nn, optim\n",
    "from SearchClassifier.word_classifier.data_loader import random_training_example, split_dataset\n",
    "from SearchClassifier.word_classifier.mutiLayerRNN import MultilayerRnn\n",
    "from SearchClassifier.word_classifier.predict import evaluate, predict\n",
    "from SearchClassifier.word_classifier.rnn import RNN\n",
    "from SearchClassifier.word_classifier.test import test_with_plot\n",
    "from SearchClassifier.word_classifier.train import train, train_loop\n",
    "from SearchClassifier.word_classifier.utils import unicode_to_ascii, letter_to_tensor, line_to_tensor, n_letters, \\\n",
    "    category_from_output, load_checkpoint, save_checkpoint"
   ],
   "metadata": {
    "collapsed": false,
    "pycharm": {
     "name": "#%%\n"
    }
   }
  },
  {
   "cell_type": "markdown",
   "source": [
    "## Global variables\n",
    "Change for running configuration"
   ],
   "metadata": {
    "collapsed": false,
    "pycharm": {
     "name": "#%% md\n"
    }
   }
  },
  {
   "cell_type": "code",
   "execution_count": 2,
   "outputs": [],
   "source": [
    "TRAINING_PERCENT = 70\n",
    "TEST_PERCENT = 20\n",
    "VIEW_PERCENT = 10\n",
    "LEARNING_RATE = 0.005  # If you set this too high, it might explode. If too low, it might not learn\n",
    "EPOCHS = 5000\n",
    "PRINT_EVERY = 100\n",
    "PLOT_EVERY = 100\n",
    "N_HIDDEN = 128\n",
    "EXEC_MODE = 3\n",
    "PATH2 = \"models/model.pt\"\n",
    "PATH = \"models/model2.pt\""
   ],
   "metadata": {
    "collapsed": false,
    "pycharm": {
     "name": "#%%\n"
    }
   }
  },
  {
   "cell_type": "markdown",
   "source": [
    "### Configuration\n",
    "Data loading and environment configuration"
   ],
   "metadata": {
    "collapsed": false,
    "pycharm": {
     "name": "#%% md\n"
    }
   }
  },
  {
   "cell_type": "code",
   "execution_count": 3,
   "outputs": [
    {
     "name": "stdout",
     "output_type": "stream",
     "text": [
      "['data/products/toys.txt', 'data/products/music.txt', 'data/products/book.txt', 'data/products/smartphone.txt', 'data/products/clothes.txt', 'data/products/food.txt', 'data/products/games.txt', 'data/products/fitness.txt']\n"
     ]
    },
    {
     "data": {
      "text/plain": "torch.Size([10, 1, 57])"
     },
     "execution_count": 3,
     "metadata": {},
     "output_type": "execute_result"
    }
   ],
   "source": [
    "def find_files(path): return glob.glob(path)\n",
    "\n",
    "\n",
    "print(find_files('data/products/*.txt'))\n",
    "\n",
    "# Build the category_lines dictionary, a list of names per language\n",
    "category_lines = {}\n",
    "all_categories = []\n",
    "\n",
    "\n",
    "# Read a file and split into lines\n",
    "def read_lines(filename):\n",
    "    lines = open(filename, encoding='utf-8').read().strip().split('\\n')\n",
    "    return [unicode_to_ascii(line) for line in lines]\n",
    "\n",
    "\n",
    "for filename in find_files('data/products/*.txt'):\n",
    "    category = os.path.splitext(os.path.basename(filename))[0]\n",
    "    all_categories.append(category)\n",
    "    lines = read_lines(filename)\n",
    "    category_lines[category] = lines\n",
    "\n",
    "n_categories = len(all_categories)\n",
    "\n",
    "training_dataset, test_dataset, view_dataset = split_dataset(category_lines, TRAINING_PERCENT, TEST_PERCENT, VIEW_PERCENT)\n",
    "\n",
    "line_to_tensor('Jose Ramón').size()"
   ],
   "metadata": {
    "collapsed": false,
    "pycharm": {
     "name": "#%%\n"
    }
   }
  },
  {
   "cell_type": "markdown",
   "source": [
    "## Creating RNN"
   ],
   "metadata": {
    "collapsed": false,
    "pycharm": {
     "name": "#%% md\n"
    }
   }
  },
  {
   "cell_type": "code",
   "execution_count": 4,
   "outputs": [
    {
     "name": "stdout",
     "output_type": "stream",
     "text": [
      "Loading network\n"
     ]
    },
    {
     "data": {
      "text/plain": "MultilayerRnn(\n  (i2h): Linear(in_features=185, out_features=128, bias=True)\n  (h2h): Linear(in_features=128, out_features=128, bias=True)\n  (i2o): Linear(in_features=185, out_features=8, bias=True)\n  (softmax): LogSoftmax()\n)"
     },
     "execution_count": 4,
     "metadata": {},
     "output_type": "execute_result"
    }
   ],
   "source": [
    "if EXEC_MODE == 1:\n",
    "    rnn = RNN(n_letters, N_HIDDEN, n_categories)\n",
    "elif EXEC_MODE == 2:\n",
    "    rnn = RNN(n_letters, N_HIDDEN, n_categories)\n",
    "    rnn2 = MultilayerRnn(n_letters, N_HIDDEN, n_categories)\n",
    "else:\n",
    "    print(\"Loading network\")\n",
    "    rnn = MultilayerRnn(n_letters, N_HIDDEN, n_categories)\n",
    "    rnn = load_checkpoint(rnn, PATH)\n",
    "    #rnn.eval()\n",
    "inputChar = letter_to_tensor('A')\n",
    "\n",
    "hidden = torch.zeros(1, N_HIDDEN)\n",
    "\n",
    "rnn"
   ],
   "metadata": {
    "collapsed": false,
    "pycharm": {
     "name": "#%%\n"
    }
   }
  },
  {
   "cell_type": "markdown",
   "source": [
    "### Getting output"
   ],
   "metadata": {
    "collapsed": false,
    "pycharm": {
     "name": "#%% md\n"
    }
   }
  },
  {
   "cell_type": "code",
   "execution_count": 5,
   "outputs": [
    {
     "data": {
      "text/plain": "('toys', 0)"
     },
     "execution_count": 5,
     "metadata": {},
     "output_type": "execute_result"
    }
   ],
   "source": [
    "output, next_hidden = rnn(inputChar, hidden)\n",
    "category_from_output(all_categories, output)"
   ],
   "metadata": {
    "collapsed": false,
    "pycharm": {
     "name": "#%%\n"
    }
   }
  },
  {
   "cell_type": "markdown",
   "source": [
    "### Showing samples"
   ],
   "metadata": {
    "collapsed": false,
    "pycharm": {
     "name": "#%% md\n"
    }
   }
  },
  {
   "cell_type": "code",
   "execution_count": 6,
   "outputs": [
    {
     "name": "stdout",
     "output_type": "stream",
     "text": [
      "category = smartphone / line = Xiaomi Mi MIX Alpha\n",
      "category = smartphone / line = OnePlus T\n",
      "category = games / line = Heavy Rain\n",
      "category = music / line = The Predator\n",
      "category = games / line = STAR WARS BATTLEFRONT II  Standard\n",
      "category = clothes / line = Joma Nilo  Pantalones largos para hombre\n",
      "category = music / line = Favourite Worst Nightmare Ed. Normal\n",
      "category = music / line = Stevie Wonder The Definitive Collection \n",
      "category = music / line = Good Kid M.a.a.d City\n",
      "category = games / line = Beyond Two Souls\n"
     ]
    }
   ],
   "source": [
    "for i in range(10):\n",
    "    category, line, category_tensor, line_tensor = random_training_example(all_categories, training_dataset)\n",
    "    print('category =', category, '/ line =', line)"
   ],
   "metadata": {
    "collapsed": false,
    "pycharm": {
     "name": "#%%\n"
    }
   }
  },
  {
   "cell_type": "markdown",
   "source": [
    "### Defining criterion\n",
    "NLLLoss() is good because the last layer of the RNN is nn.LogSoftmax I have to see the different criterion and activation functions"
   ],
   "metadata": {
    "collapsed": false,
    "pycharm": {
     "name": "#%% md\n"
    }
   }
  },
  {
   "cell_type": "code",
   "execution_count": 7,
   "outputs": [],
   "source": [
    "if EXEC_MODE == 1 or EXEC_MODE == 2:\n",
    "    criterion = nn.NLLLoss()"
   ],
   "metadata": {
    "collapsed": false,
    "pycharm": {
     "name": "#%%\n"
    }
   }
  },
  {
   "cell_type": "markdown",
   "source": [
    "## Training\n",
    "each loop of training\n",
    "  1) Create input and target tensors\n",
    "  2) Create zeroed initial hidden state\n",
    "  3) Read each letter in and keep hidden state for next letter\n",
    "  4) Compare final output to target\n",
    "  5) Back-propagate\n",
    "  6) Return to output and loss\n",
    "Keep track of losses for plotting"
   ],
   "metadata": {
    "collapsed": false,
    "pycharm": {
     "name": "#%% md\n"
    }
   }
  },
  {
   "cell_type": "code",
   "execution_count": 8,
   "outputs": [],
   "source": [
    "if EXEC_MODE == 1:\n",
    "    print(\"Training network\")\n",
    "    rnn, all_losses = train_loop(rnn, criterion, all_categories, training_dataset, EPOCHS, LEARNING_RATE, PRINT_EVERY, PLOT_EVERY)\n",
    "if EXEC_MODE == 2:\n",
    "    print(\"Training first network\")\n",
    "    rnn, all_losses = train_loop(rnn, criterion, all_categories, training_dataset, EPOCHS, LEARNING_RATE, PRINT_EVERY, PLOT_EVERY)\n",
    "    print(\"Training second network\")\n",
    "    rnn2, all_losses2 = train_loop(rnn2, criterion, all_categories, training_dataset, EPOCHS, LEARNING_RATE, PRINT_EVERY, PLOT_EVERY)"
   ],
   "metadata": {
    "collapsed": false,
    "pycharm": {
     "name": "#%%\n"
    }
   }
  },
  {
   "cell_type": "markdown",
   "source": [
    "## Plotting info\n",
    "1. One plot is a square of classes, in every square is represented the\n",
    "index of times is predicted one class when it's the other\n",
    "It's good to be yellow on diagonal\n",
    "2. The other is de function loss progression"
   ],
   "metadata": {
    "collapsed": false,
    "pycharm": {
     "name": "#%% md\n"
    }
   }
  },
  {
   "cell_type": "code",
   "execution_count": 9,
   "outputs": [],
   "source": [
    "if EXEC_MODE == 1 or EXEC_MODE == 2:\n",
    "    plt.figure()\n",
    "    plt.plot(all_losses)\n",
    "if EXEC_MODE == 2:\n",
    "    plt.figure()\n",
    "    plt.plot(all_losses2)\n",
    "\n",
    "test_with_plot(rnn, test_dataset, all_categories)\n",
    "if EXEC_MODE == 2:\n",
    "    test_with_plot(rnn2, test_dataset, all_categories)"
   ],
   "metadata": {
    "collapsed": false,
    "pycharm": {
     "name": "#%%\n"
    }
   }
  },
  {
   "cell_type": "markdown",
   "source": [
    "## Saving and Loading\n",
    "Saving and Loading model functions"
   ],
   "metadata": {
    "collapsed": false,
    "pycharm": {
     "name": "#%% md\n"
    }
   }
  },
  {
   "cell_type": "code",
   "execution_count": 10,
   "outputs": [],
   "source": [
    "save_checkpoint(rnn, PATH)\n",
    "if EXEC_MODE == 2:\n",
    "    save_checkpoint(rnn2, PATH2)"
   ],
   "metadata": {
    "collapsed": false,
    "pycharm": {
     "name": "#%%\n"
    }
   }
  },
  {
   "cell_type": "markdown",
   "source": [
    "### Some predicts"
   ],
   "metadata": {
    "collapsed": false
   }
  },
  {
   "cell_type": "code",
   "execution_count": 11,
   "outputs": [
    {
     "name": "stdout",
     "output_type": "stream",
     "text": [
      "\n",
      "> Falomir Coloca  Juego de Mesa, Multicolor, unica \n",
      "tensor([[-1.7512, -1.8888, -1.8438, -2.4001, -2.8853, -4.1763, -1.4501, -2.1159]])\n",
      "[[-1.7512081 -1.8888253 -1.8437657 -2.4000578 -2.885331  -4.1763034\n",
      "  -1.4501361 -2.115911 ]]\n",
      "-18.51153826713562\n",
      "[array([0.0946009 , 0.10203503, 0.0996009 , 0.129652  , 0.15586662,\n",
      "       0.22560543, 0.07833688, 0.11430229], dtype=float32)]\n",
      "(0.23) food\n",
      "(0.16) clothes\n",
      "(0.13) smartphone\n",
      "\n",
      "> LEGO Classic  Caja de ladrillos creativos grande, Set de Construccion con ladrillos de colores, Juguete Creativo y divertido a partir de  anos, incluye separador de piezas \n",
      "tensor([[-1.1139, -1.8237, -2.0653, -2.0869, -5.6983, -4.3263, -2.7347, -1.7261]])\n",
      "[[-1.1139302 -1.8236889 -2.0652928 -2.0869036 -5.698251  -4.326251\n",
      "  -2.7346869 -1.7261434]]\n",
      "-21.57514750957489\n",
      "[array([0.05163025, 0.08452729, 0.09572555, 0.0967272 , 0.2641118 ,\n",
      "       0.20052011, 0.1267517 , 0.0800061 ], dtype=float32)]\n",
      "(0.26) clothes\n",
      "(0.20) food\n",
      "(0.13) games\n",
      "\n",
      "> Hasbro Gaming Don't Step In It Unorne  Juego de Mesa con Texto en frances\n",
      "tensor([[-1.3686, -1.7468, -1.9237, -2.6027, -3.9991, -4.4248, -2.6773, -1.3783]])\n",
      "[[-1.3686346 -1.7467743 -1.9236617 -2.602716  -3.9990983 -4.424807\n",
      "  -2.6773183 -1.3782818]]\n",
      "-20.121292114257812\n",
      "[array([0.06801922, 0.08681224, 0.09560329, 0.12935133, 0.19874957,\n",
      "       0.2199067 , 0.13305897, 0.06849867], dtype=float32)]\n",
      "(0.22) food\n",
      "(0.20) clothes\n",
      "(0.13) games\n",
      "\n",
      "> The Slim Shady LP Expanded Edition Explicit\n",
      "tensor([[-2.4813, -1.2617, -1.5545, -2.9287, -3.6139, -5.2911, -1.7161, -1.8536]])\n",
      "[[-2.4812906 -1.2616887 -1.5544605 -2.9287062 -3.6139102 -5.29108\n",
      "  -1.7161403 -1.8535587]]\n",
      "-20.70083510875702\n",
      "[array([0.11986428, 0.06094869, 0.07509168, 0.14147769, 0.174578  ,\n",
      "       0.25559744, 0.08290198, 0.08954029], dtype=float32)]\n",
      "(0.26) food\n",
      "(0.17) clothes\n",
      "(0.14) smartphone\n",
      "\n",
      "> The Katie Melua Collection\n",
      "tensor([[-2.5053, -1.5787, -1.6612, -3.0188, -3.5397, -4.9811, -1.2261, -1.9379]])\n",
      "[[-2.5052617 -1.5787185 -1.6611876 -3.0188375 -3.5396593 -4.9811\n",
      "  -1.2260609 -1.9379473]]\n",
      "-20.44877278804779\n",
      "[array([0.12251404, 0.07720359, 0.08123655, 0.14762928, 0.17309886,\n",
      "       0.2435892 , 0.05995768, 0.09477083], dtype=float32)]\n",
      "(0.24) food\n",
      "(0.17) clothes\n",
      "(0.15) smartphone\n",
      "\n",
      "> King New Breed\n",
      "tensor([[-2.0931, -1.7106, -1.6078, -2.4033, -4.7792, -3.8847, -2.1471, -1.3493]])\n",
      "[[-2.0931394 -1.7106397 -1.6077932 -2.4033332 -4.7791977 -3.8847256\n",
      "  -2.1471446 -1.3492618]]\n",
      "-19.975235104560852\n",
      "[array([0.10478672, 0.08563802, 0.08048933, 0.12031564, 0.23925614,\n",
      "       0.1944771 , 0.10749033, 0.06754673], dtype=float32)]\n",
      "(0.24) clothes\n",
      "(0.19) food\n",
      "(0.12) smartphone\n",
      "\n",
      "> Hold On I'm Coming  gm vinyl Vinilo\n",
      "tensor([[-2.1970, -1.0044, -2.0087, -3.0127, -4.1511, -5.4949, -2.5066, -1.4360]])\n",
      "[[-2.196972  -1.0043973 -2.0087354 -3.0127444 -4.151121  -5.494882\n",
      "  -2.506605  -1.4359818]]\n",
      "-21.81143891811371\n",
      "[array([0.10072567, 0.04604911, 0.0920955 , 0.1381268 , 0.19031852,\n",
      "       0.2519266 , 0.11492157, 0.06583618], dtype=float32)]\n",
      "(0.25) food\n",
      "(0.19) clothes\n",
      "(0.14) smartphone\n",
      "\n",
      "> The Odyssey\n",
      "tensor([[-1.6910, -1.9371, -1.5123, -2.1312, -4.4546, -3.3304, -2.7309, -1.5146]])\n",
      "[[-1.6909652 -1.9371055 -1.5123441 -2.131206  -4.4545593 -3.3304317\n",
      "  -2.730919  -1.5146333]]\n",
      "-19.30216407775879\n",
      "[array([0.08760495, 0.10035691, 0.07835101, 0.11041281, 0.2307803 ,\n",
      "       0.17254189, 0.14148252, 0.07846961], dtype=float32)]\n",
      "(0.23) clothes\n",
      "(0.17) food\n",
      "(0.14) games\n",
      "\n",
      "> Pride and Prejudice\n",
      "tensor([[-2.6299, -1.8626, -1.1200, -2.6316, -2.6522, -4.9565, -2.3298, -1.6117]])\n",
      "[[-2.6298547 -1.8626302 -1.1199754 -2.631601  -2.6521764 -4.9565096\n",
      "  -2.3297641 -1.6117266]]\n",
      "-19.794238209724426\n",
      "[array([0.1328596 , 0.09409961, 0.05658088, 0.13294783, 0.1339873 ,\n",
      "       0.25040162, 0.1176991 , 0.08142403], dtype=float32)]\n",
      "(0.25) food\n",
      "(0.13) clothes\n",
      "(0.13) smartphone\n",
      "\n",
      "> Sony Xperia Z Ultra\n",
      "tensor([[-3.0181, -2.6567, -1.8080, -2.8767, -1.3562, -3.6274, -1.1289, -2.9367]])\n",
      "[[-3.0181417 -2.656729  -1.8080177 -2.876727  -1.3562342 -3.6274023\n",
      "  -1.1289316 -2.936706 ]]\n",
      "-19.408889770507812\n",
      "[array([0.15550306, 0.13688207, 0.0931541 , 0.14821698, 0.06987696,\n",
      "       0.18689387, 0.0581657 , 0.15130727], dtype=float32)]\n",
      "(0.19) food\n",
      "(0.16) toys\n",
      "(0.15) fitness\n",
      "\n",
      "> Nokia  PureView\n",
      "tensor([[-1.9199, -1.6030, -1.8100, -2.5274, -4.2562, -4.8642, -2.4458, -1.2040]])\n",
      "[[-1.9199045 -1.6029512 -1.8099756 -2.527383  -4.25622   -4.8642178\n",
      "  -2.4458053 -1.2039673]]\n",
      "-20.63042461872101\n",
      "[array([0.0930618 , 0.07769841, 0.08773332, 0.12250756, 0.20630792,\n",
      "       0.23577885, 0.11855332, 0.05835883], dtype=float32)]\n",
      "(0.24) food\n",
      "(0.21) clothes\n",
      "(0.12) smartphone\n",
      "\n",
      "> LG Optimus L\n",
      "tensor([[-1.0557, -3.0767, -2.3005, -1.1604, -5.2759, -2.4985, -3.4748, -2.6023]])\n",
      "[[-1.0557239 -3.076698  -2.300517  -1.160428  -5.275931  -2.4985106\n",
      "  -3.4748383 -2.6023135]]\n",
      "-21.444960355758667\n",
      "[array([0.04922947, 0.14346953, 0.10727542, 0.05411192, 0.24602196,\n",
      "       0.11650806, 0.1620352 , 0.12134849], dtype=float32)]\n",
      "(0.25) clothes\n",
      "(0.16) games\n",
      "(0.14) music\n",
      "\n",
      "> adidas Core PES Pnt Pantalones de Deporte, Hombre\n",
      "tensor([[-6.3174, -5.2188, -3.9228, -5.7888, -0.0845, -6.5019, -3.0856, -5.5949]])\n",
      "[[-6.3173842  -5.2187614  -3.9227767  -5.7888336  -0.08445454 -6.501914\n",
      "  -3.0855942  -5.5949183 ]]\n",
      "-36.5146369934082\n",
      "[array([0.17300963, 0.14292245, 0.10743026, 0.1585346 , 0.0023129 ,\n",
      "       0.17806323, 0.08450294, 0.15322399], dtype=float32)]\n",
      "(0.18) food\n",
      "(0.17) toys\n",
      "(0.16) smartphone\n",
      "\n",
      "> NIKE Dry Academy  Chandal, Hombre\n",
      "tensor([[-6.2961, -5.2065, -3.9067, -5.7657, -0.0856, -6.4739, -3.0753, -5.5800]])\n",
      "[[-6.296109   -5.2065306  -3.9067063  -5.765739   -0.08561707 -6.4738727\n",
      "  -3.0753226  -5.5799723 ]]\n",
      "-36.389869689941406\n",
      "[array([0.17301819, 0.14307638, 0.10735697, 0.15844351, 0.00235277,\n",
      "       0.17790316, 0.08451041, 0.15333861], dtype=float32)]\n",
      "(0.18) food\n",
      "(0.17) toys\n",
      "(0.16) smartphone\n",
      "\n",
      "> Nike Elastic Hairband pk  VoltBlackPink\n",
      "tensor([[-2.0024, -1.7979, -1.3594, -2.4190, -4.7452, -4.4363, -2.3720, -1.4284]])\n",
      "[[-2.00244   -1.7978766 -1.3594348 -2.4189754 -4.745167  -4.436305\n",
      "  -2.3719814 -1.4283812]]\n",
      "-20.560561180114746\n",
      "[array([0.09739228, 0.08744297, 0.06611856, 0.11765122, 0.23078974,\n",
      "       0.2157677 , 0.11536559, 0.0694719 ], dtype=float32)]\n",
      "(0.23) clothes\n",
      "(0.22) food\n",
      "(0.12) smartphone\n",
      "\n",
      "> JOE WEIDER VICTORY Protein Spreads Whey Protein  g Choco Cream\n",
      "tensor([[-2.0276, -1.8881, -1.6536, -1.9234, -4.4953, -3.6639, -1.9489, -1.6080]])\n",
      "[[-2.0275943 -1.8880764 -1.6536467 -1.9233904 -4.495267  -3.6639304\n",
      "  -1.9488845 -1.6079501]]\n",
      "-19.208739757537842\n",
      "[array([0.10555582, 0.09829257, 0.08608824, 0.100131  , 0.23402195,\n",
      "       0.19074288, 0.10145821, 0.08370929], dtype=float32)]\n",
      "(0.23) clothes\n",
      "(0.19) food\n",
      "(0.11) toys\n",
      "\n",
      "> Apis Tomate Triturado   g\n",
      "tensor([[-3.4406, -6.7871, -5.3357, -2.8388, -6.2961, -0.1094, -5.7577, -6.1427]])\n",
      "[[-3.440631   -6.7871246  -5.335685   -2.8387885  -6.296083   -0.10940933\n",
      "  -5.757724   -6.1427417 ]]\n",
      "-36.708186626434326\n",
      "[array([0.09372925, 0.18489403, 0.14535408, 0.07733393, 0.17151713,\n",
      "       0.00298052, 0.15685122, 0.16733983], dtype=float32)]\n",
      "(0.18) music\n",
      "(0.17) clothes\n",
      "(0.17) fitness\n",
      "\n",
      "> Gourmet Maiz Dulce en Grano  Envasado al Vacio   g\n",
      "tensor([[-2.8784, -6.2546, -5.0394, -2.5182, -6.4537, -0.1673, -5.6510, -5.5911]])\n",
      "[[-2.8783765  -6.254559   -5.039404   -2.5182462  -6.4537063  -0.16729021\n",
      "  -5.6509686  -5.5910788 ]]\n",
      "-34.55362939834595\n",
      "[array([0.08330171, 0.18101019, 0.14584297, 0.07287935, 0.18677361,\n",
      "       0.00484147, 0.16354196, 0.16180871], dtype=float32)]\n",
      "(0.19) clothes\n",
      "(0.18) music\n",
      "(0.16) games\n",
      "\n",
      "> Assassin's Creed III  Liberation Remaster\n",
      "tensor([[-1.8464, -2.1026, -1.8304, -2.5210, -3.9572, -3.3534, -2.3848, -1.0992]])\n",
      "[[-1.8463936 -2.1026132 -1.8304342 -2.5210288 -3.9572144 -3.353406\n",
      "  -2.384765  -1.0991772]]\n",
      "-19.095032215118408\n",
      "[array([0.09669498, 0.11011311, 0.09585918, 0.13202538, 0.2072379 ,\n",
      "       0.17561667, 0.12488928, 0.05756352], dtype=float32)]\n",
      "(0.21) clothes\n",
      "(0.18) food\n",
      "(0.13) smartphone\n",
      "\n",
      "> Minecraft  Windows  Starter Collection\n",
      "tensor([[-2.6466, -1.6742, -1.6612, -3.0881, -3.2068, -4.9782, -1.0946, -2.0867]])\n",
      "[[-2.6466365 -1.6741557 -1.6611766 -3.0880852 -3.206826  -4.978236\n",
      "  -1.0946199 -2.0866528]]\n",
      "-20.436388731002808\n",
      "[array([0.12950608, 0.08192033, 0.08128523, 0.15110719, 0.15691745,\n",
      "       0.24359667, 0.05356229, 0.10210478], dtype=float32)]\n",
      "(0.24) food\n",
      "(0.16) clothes\n",
      "(0.15) smartphone\n",
      "\n",
      "> PVZ Battle for Neighborville CIAB\n",
      "tensor([[-1.5913, -2.1402, -1.8350, -1.9566, -3.7883, -2.6373, -2.1513, -1.7883]])\n",
      "[[-1.5913002 -2.1402366 -1.8350213 -1.9566188 -3.7883344 -2.637345\n",
      "  -2.1512682 -1.788289 ]]\n",
      "-17.888413548469543\n",
      "[array([0.08895703, 0.11964373, 0.10258155, 0.10937911, 0.21177585,\n",
      "       0.14743313, 0.12026042, 0.09996911], dtype=float32)]\n",
      "(0.21) clothes\n",
      "(0.15) food\n",
      "(0.12) games\n",
      "\n",
      "> Diablo III Battle Chest  Standard\n",
      "tensor([[-2.9656, -2.1396, -1.6130, -3.0240, -2.1928, -4.3952, -0.9664, -2.5450]])\n",
      "[[-2.9656334  -2.1395879  -1.6130214  -3.0239685  -2.1928024  -4.395226\n",
      "  -0.96636546 -2.544996  ]]\n",
      "-19.841601014137268\n",
      "[array([0.14946543, 0.10783343, 0.08129492, 0.15240547, 0.1105154 ,\n",
      "       0.2215157 , 0.04870401, 0.12826566], dtype=float32)]\n",
      "(0.22) food\n",
      "(0.15) smartphone\n",
      "(0.15) toys\n",
      "\n",
      "> Schwinn  Upright Bike\n",
      "tensor([[-2.2847, -1.8367, -1.5820, -2.3771, -4.1798, -3.9857, -3.2020, -1.0054]])\n",
      "[[-2.2847052 -1.8366636 -1.5819802 -2.3770552 -4.17981   -3.985711\n",
      "  -3.2020204 -1.005406 ]]\n",
      "-20.453351736068726\n",
      "[array([0.11170322, 0.08979768, 0.07734577, 0.11621837, 0.20435819,\n",
      "       0.19486836, 0.15655236, 0.04915605], dtype=float32)]\n",
      "(0.20) clothes\n",
      "(0.19) food\n",
      "(0.16) games\n",
      "\n",
      "> wood espalier\n",
      "tensor([[-2.1531, -1.7964, -1.8122, -3.0722, -4.3817, -4.9126, -2.4915, -0.9021]])\n",
      "[[-2.1531134  -1.7964388  -1.8121815  -3.0721672  -4.3816643  -4.9126225\n",
      "  -2.4914653  -0.90208006]]\n",
      "-21.521732926368713\n",
      "[array([0.10004368, 0.08347092, 0.0842024 , 0.14274721, 0.20359254,\n",
      "       0.22826333, 0.11576509, 0.04191484], dtype=float32)]\n",
      "(0.23) food\n",
      "(0.20) clothes\n",
      "(0.14) smartphone\n",
      "\n",
      "> Bowflex BXT Treadmill\n",
      "tensor([[-2.3382, -1.6213, -1.6587, -2.8483, -3.9258, -4.8476, -2.1202, -1.1713]])\n",
      "[[-2.3381584 -1.6213158 -1.6587317 -2.8483148 -3.925777  -4.847573\n",
      "  -2.1201894 -1.1713405]]\n",
      "-20.531400322914124\n",
      "[array([0.11388206, 0.07896762, 0.08078999, 0.13872969, 0.19120844,\n",
      "       0.23610531, 0.1032657 , 0.05705117], dtype=float32)]\n",
      "(0.24) food\n",
      "(0.19) clothes\n",
      "(0.14) smartphone\n",
      "\n",
      "> Soft elastic band\n",
      "tensor([[-1.9267, -1.7968, -1.6629, -2.1947, -4.8772, -3.2282, -2.1945, -1.4745]])\n",
      "[[-1.9267255 -1.7967639 -1.6629193 -2.1947174 -4.877228  -3.228182\n",
      "  -2.1944811 -1.4744596]]\n",
      "-19.3554767370224\n",
      "[array([0.0995442 , 0.09282974, 0.08591466, 0.11339   , 0.2519818 ,\n",
      "       0.16678391, 0.11337779, 0.0761779 ], dtype=float32)]\n",
      "(0.25) clothes\n",
      "(0.17) food\n",
      "(0.11) smartphone\n"
     ]
    }
   ],
   "source": [
    "for key in view_dataset.keys():\n",
    "    for value in view_dataset[key]:\n",
    "        predict(rnn, value, all_categories, 3)"
   ],
   "metadata": {
    "collapsed": false,
    "pycharm": {
     "name": "#%%\n"
    }
   }
  }
 ],
 "metadata": {
  "kernelspec": {
   "display_name": "Python 3",
   "language": "python",
   "name": "python3"
  },
  "language_info": {
   "codemirror_mode": {
    "name": "ipython",
    "version": 2
   },
   "file_extension": ".py",
   "mimetype": "text/x-python",
   "name": "python",
   "nbconvert_exporter": "python",
   "pygments_lexer": "ipython2",
   "version": "2.7.6"
  }
 },
 "nbformat": 4,
 "nbformat_minor": 0
}