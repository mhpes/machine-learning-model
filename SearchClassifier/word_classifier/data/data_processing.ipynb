{
 "cells": [
  {
   "cell_type": "markdown",
   "source": [
    "# Data processing"
   ],
   "metadata": {
    "collapsed": false,
    "pycharm": {
     "name": "#%% md\n"
    }
   }
  },
  {
   "cell_type": "code",
   "execution_count": 1,
   "outputs": [],
   "source": [
    "import pandas as pd\n",
    "\n",
    "FILE = \"kn8_customs_defined_data.csv\"\n",
    "FILE_SAVE = \"kn8_defined_cleaned_data.csv\""
   ],
   "metadata": {
    "collapsed": false,
    "pycharm": {
     "name": "#%%\n"
    }
   }
  },
  {
   "cell_type": "markdown",
   "source": [
    "## Opening csv\n",
    "Read data from file"
   ],
   "metadata": {
    "collapsed": false,
    "pycharm": {
     "name": "#%% md\n"
    }
   }
  },
  {
   "cell_type": "code",
   "execution_count": 2,
   "metadata": {
    "collapsed": true,
    "pycharm": {
     "name": "#%%\n"
    }
   },
   "outputs": [
    {
     "name": "stderr",
     "output_type": "stream",
     "text": [
      "/home/cherra/.virtualenvs/PyTorchProject/lib/python3.6/site-packages/IPython/core/interactiveshell.py:3063: DtypeWarning: Columns (1,2) have mixed types.Specify dtype option on import or set low_memory=False.\n",
      "  interactivity=interactivity, compiler=compiler, result=result)\n"
     ]
    }
   ],
   "source": [
    "headers = [\"units\", \"kn8\", \"dcode\", \"product\"]\n",
    "data = pd.read_csv(FILE, sep=';', encoding = 'cp437',skiprows=1, error_bad_lines=False, header=None)\n",
    "data.columns = headers"
   ]
  },
  {
   "cell_type": "markdown",
   "source": [
    "### Some Data"
   ],
   "metadata": {
    "collapsed": false,
    "pycharm": {
     "name": "#%% md\n"
    }
   }
  },
  {
   "cell_type": "code",
   "execution_count": 3,
   "outputs": [
    {
     "data": {
      "text/plain": "         units       kn8 dcode                         product\n1220761      2      test   NaN                testtesttesttest\n1220762      1  Willisau   NaN  Umverpackung H÷rgerΣtebatterie\n1220763      1       x\\t                                   NaN\n1220764      1  xxxxx       \\t                             NaN\n1220765      1  xxxxxx      \\t                             NaN",
      "text/html": "<div>\n<style scoped>\n    .dataframe tbody tr th:only-of-type {\n        vertical-align: middle;\n    }\n\n    .dataframe tbody tr th {\n        vertical-align: top;\n    }\n\n    .dataframe thead th {\n        text-align: right;\n    }\n</style>\n<table border=\"1\" class=\"dataframe\">\n  <thead>\n    <tr style=\"text-align: right;\">\n      <th></th>\n      <th>units</th>\n      <th>kn8</th>\n      <th>dcode</th>\n      <th>product</th>\n    </tr>\n  </thead>\n  <tbody>\n    <tr>\n      <th>1220761</th>\n      <td>2</td>\n      <td>test</td>\n      <td>NaN</td>\n      <td>testtesttesttest</td>\n    </tr>\n    <tr>\n      <th>1220762</th>\n      <td>1</td>\n      <td>Willisau</td>\n      <td>NaN</td>\n      <td>Umverpackung H÷rgerΣtebatterie</td>\n    </tr>\n    <tr>\n      <th>1220763</th>\n      <td>1</td>\n      <td>x\\t</td>\n      <td></td>\n      <td>NaN</td>\n    </tr>\n    <tr>\n      <th>1220764</th>\n      <td>1</td>\n      <td>xxxxx</td>\n      <td>\\t</td>\n      <td>NaN</td>\n    </tr>\n    <tr>\n      <th>1220765</th>\n      <td>1</td>\n      <td>xxxxxx</td>\n      <td>\\t</td>\n      <td>NaN</td>\n    </tr>\n  </tbody>\n</table>\n</div>"
     },
     "execution_count": 3,
     "metadata": {},
     "output_type": "execute_result"
    }
   ],
   "source": [
    "data.head()\n",
    "data.tail()"
   ],
   "metadata": {
    "collapsed": false,
    "pycharm": {
     "name": "#%%\n"
    }
   }
  },
  {
   "cell_type": "markdown",
   "source": [
    "## Processing\n",
    "\n",
    "### Clean rows\n",
    "Remove last 12 rows(dirty rows)"
   ],
   "metadata": {
    "collapsed": false,
    "pycharm": {
     "name": "#%% md\n"
    }
   }
  },
  {
   "cell_type": "code",
   "execution_count": 4,
   "outputs": [],
   "source": [
    "data.drop(data.tail(12).index, inplace=True)"
   ],
   "metadata": {
    "collapsed": false,
    "pycharm": {
     "name": "#%%\n"
    }
   }
  },
  {
   "cell_type": "markdown",
   "source": [
    "### Clean columns\n",
    "\n",
    "Visualize rows which third value isn't NaN"
   ],
   "metadata": {
    "collapsed": false,
    "pycharm": {
     "name": "#%% md\n"
    }
   }
  },
  {
   "cell_type": "code",
   "execution_count": 5,
   "outputs": [],
   "source": [
    "data = data[['kn8','product']]\n",
    "data.to_csv(FILE_SAVE, index = False, header = True, sep=';')"
   ],
   "metadata": {
    "collapsed": false,
    "pycharm": {
     "name": "#%%\n"
    }
   }
  },
  {
   "cell_type": "code",
   "execution_count": 6,
   "outputs": [
    {
     "name": "stdout",
     "output_type": "stream",
     "text": [
      "/home/cherra/Cuarto/PE/PyTorchProject/SearchClassifier/word_classifier/data\r\n"
     ]
    }
   ],
   "source": [
    "!pwd"
   ],
   "metadata": {
    "collapsed": false,
    "pycharm": {
     "name": "#%%\n"
    }
   }
  }
 ],
 "metadata": {
  "kernelspec": {
   "display_name": "Python 3",
   "language": "python",
   "name": "python3"
  },
  "language_info": {
   "codemirror_mode": {
    "name": "ipython",
    "version": 2
   },
   "file_extension": ".py",
   "mimetype": "text/x-python",
   "name": "python",
   "nbconvert_exporter": "python",
   "pygments_lexer": "ipython2",
   "version": "2.7.6"
  }
 },
 "nbformat": 4,
 "nbformat_minor": 0
}